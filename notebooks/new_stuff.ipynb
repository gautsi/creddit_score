{
 "metadata": {
  "name": ""
 },
 "nbformat": 3,
 "nbformat_minor": 0,
 "worksheets": [
  {
   "cells": [
    {
     "cell_type": "code",
     "collapsed": false,
     "input": [
      "%matplotlib inline\n",
      "import matplotlib.pyplot as plt\n",
      "import matplotlib.colors as cl\n",
      "import matplotlib.patches as mpatches\n",
      "import matplotlib.cm as cm"
     ],
     "language": "python",
     "metadata": {},
     "outputs": [],
     "prompt_number": 1
    },
    {
     "cell_type": "code",
     "collapsed": false,
     "input": [
      "import creddit_score as cs\n",
      "import pandas as pd\n",
      "import numpy as np\n",
      "from sklearn import cross_validation\n",
      "from sklearn.pipeline import Pipeline\n",
      "from sklearn.feature_extraction.text import CountVectorizer\n",
      "from sklearn.feature_extraction.text import TfidfTransformer\n",
      "from sklearn.naive_bayes import MultinomialNB\n",
      "from sklearn import metrics\n",
      "from scipy import interp\n",
      "from sklearn.metrics import roc_curve, auc\n",
      "from sklearn.cross_validation import StratifiedKFold"
     ],
     "language": "python",
     "metadata": {},
     "outputs": [
      {
       "output_type": "stream",
       "stream": "stderr",
       "text": [
        "/home/gautam/anaconda/lib/python2.7/site-packages/pytz/__init__.py:35: UserWarning: Module argparse was already imported from /home/gautam/anaconda/lib/python2.7/argparse.pyc, but /home/gautam/anaconda/lib/python2.7/site-packages is being added to sys.path\n",
        "  from pkg_resources import resource_stream\n",
        "/home/gautam/anaconda/lib/python2.7/site-packages/scipy/sparse/csgraph/__init__.py:148: RuntimeWarning: numpy.ufunc size changed, may indicate binary incompatibility\n",
        "  from ._shortest_path import shortest_path, floyd_warshall, dijkstra,\\\n"
       ]
      },
      {
       "output_type": "stream",
       "stream": "stderr",
       "text": [
        "/home/gautam/anaconda/lib/python2.7/site-packages/scipy/sparse/csgraph/_validation.py:5: RuntimeWarning: numpy.ufunc size changed, may indicate binary incompatibility\n",
        "  from ._tools import csgraph_to_dense, csgraph_from_dense,\\\n",
        "/home/gautam/anaconda/lib/python2.7/site-packages/scipy/sparse/csgraph/__init__.py:150: RuntimeWarning: numpy.ufunc size changed, may indicate binary incompatibility\n",
        "  from ._traversal import breadth_first_order, depth_first_order, \\\n",
        "/home/gautam/anaconda/lib/python2.7/site-packages/scipy/sparse/csgraph/__init__.py:152: RuntimeWarning: numpy.ufunc size changed, may indicate binary incompatibility\n",
        "  from ._min_spanning_tree import minimum_spanning_tree\n",
        "/home/gautam/anaconda/lib/python2.7/site-packages/scipy/special/__init__.py:531: RuntimeWarning: numpy.ufunc size changed, may indicate binary incompatibility\n",
        "  from ._ufuncs import *\n"
       ]
      },
      {
       "output_type": "stream",
       "stream": "stderr",
       "text": [
        "/home/gautam/anaconda/lib/python2.7/site-packages/scipy/spatial/__init__.py:90: RuntimeWarning: numpy.ufunc size changed, may indicate binary incompatibility\n",
        "  from .ckdtree import *\n",
        "/home/gautam/anaconda/lib/python2.7/site-packages/scipy/spatial/__init__.py:91: RuntimeWarning: numpy.ufunc size changed, may indicate binary incompatibility\n",
        "  from .qhull import *\n",
        "/home/gautam/anaconda/lib/python2.7/site-packages/scipy/stats/distributions.py:35: RuntimeWarning: numpy.ufunc size changed, may indicate binary incompatibility\n",
        "  from . import vonmises_cython\n"
       ]
      },
      {
       "output_type": "stream",
       "stream": "stderr",
       "text": [
        "/home/gautam/anaconda/lib/python2.7/site-packages/scipy/stats/stats.py:252: RuntimeWarning: numpy.ufunc size changed, may indicate binary incompatibility\n",
        "  from ._rank import rankdata, tiecorrect\n"
       ]
      }
     ],
     "prompt_number": 2
    },
    {
     "cell_type": "code",
     "collapsed": false,
     "input": [
      "from textblob import TextBlob"
     ],
     "language": "python",
     "metadata": {},
     "outputs": [
      {
       "output_type": "stream",
       "stream": "stderr",
       "text": [
        "/home/gautam/anaconda/lib/python2.7/site-packages/scipy/io/matlab/mio4.py:18: RuntimeWarning: numpy.ufunc size changed, may indicate binary incompatibility\n",
        "  from .mio_utils import squeeze_element, chars_to_strings\n",
        "/home/gautam/anaconda/lib/python2.7/site-packages/scipy/io/matlab/mio5.py:98: RuntimeWarning: numpy.ufunc size changed, may indicate binary incompatibility\n",
        "  from .mio5_utils import VarReader5\n"
       ]
      }
     ],
     "prompt_number": 3
    },
    {
     "cell_type": "code",
     "collapsed": false,
     "input": [
      "classes = {'bad' : 0, 'neutral' : 1, 'good' : 2}\n",
      "colors = ['r', 'b', 'g']\n",
      "lcm = cl.ListedColormap(colors)"
     ],
     "language": "python",
     "metadata": {},
     "outputs": [],
     "prompt_number": 4
    },
    {
     "cell_type": "code",
     "collapsed": false,
     "input": [
      "low_thresh = 0\n",
      "high_thresh = 15"
     ],
     "language": "python",
     "metadata": {},
     "outputs": [],
     "prompt_number": 5
    },
    {
     "cell_type": "code",
     "collapsed": false,
     "input": [
      "def normalize(X):\n",
      "    mean = X.mean()\n",
      "    range_X = X.max() - X.min()\n",
      "    return (X - mean)/float(range_X), mean, range_X\n",
      "\n",
      "def denorm(norm, mean, range_X):\n",
      "    return mean + norm*range_X\n",
      "\n",
      "def cube_root(x):\n",
      "    if x > 0:\n",
      "        return x**(1.0/3.0)\n",
      "    else:\n",
      "        return -1*(-1*x)**(1.0/3.0)\n",
      "    \n",
      "def add_features(df):\n",
      "    df['age'] = df.created - df.subm_created\n",
      "    df['age_min'] = df.age/60.0\n",
      "    df['age_min_log'] = np.log10(df.age_min)\n",
      "    df['time_since_post'] = df.timestamp - df.created\n",
      "    df['time_since_post_min'] = df.time_since_post/60.0\n",
      "    df['time_since_post_min_log'] = np.log10(df.time_since_post_min)\n",
      "    #df['color'] = df.subreddit.apply(lambda x : cs.subreddits.index(x))\n",
      "    df['comment_length'] = df.content.apply(len)\n",
      "    df['comment_num_words'] = df.content.apply(lambda x : len(x.split()))\n",
      "    df['comment_length_log'] = np.log10(df.comment_length)\n",
      "    df['comment_num_words_log'] = np.log10(df.comment_num_words)\n",
      "    df['subm_num_comments_log'] = np.log10(df.subm_num_comments)\n",
      "    #df['poor'] = df.score.apply(lambda x : -1 if x < thresh else 1)\n",
      "    df['cube_score'] = df.score.apply(lambda x : cube_root(x))\n",
      "    df['cube_subm_score'] = df.subm_score.apply(lambda x : cube_root(x))\n",
      "    df['cls'] = df.score.apply(lambda x : 'bad' if x < 0 else ('good' if x > 15 else 'neutral'))\n",
      "    df['cls_color'] = df.cls.apply(lambda x: classes[x])\n",
      "    df['polarity'] = df.content.apply(lambda x : TextBlob(x).polarity)\n",
      "    df['subjectivity'] = df.content.apply(lambda x : TextBlob(x).subjectivity)"
     ],
     "language": "python",
     "metadata": {},
     "outputs": [],
     "prompt_number": 6
    },
    {
     "cell_type": "code",
     "collapsed": false,
     "input": [
      "dib_df = pd.read_sql(sql=\"select *\\\n",
      "                     from comm_subm\\\n",
      "                     where subreddit='DataIsBeautiful'\",                    \n",
      "                     con=cs.engine)"
     ],
     "language": "python",
     "metadata": {},
     "outputs": [],
     "prompt_number": 7
    },
    {
     "cell_type": "code",
     "collapsed": false,
     "input": [
      "comments_most_recent = dib_df.groupby(dib_df.comment_id).last()"
     ],
     "language": "python",
     "metadata": {},
     "outputs": [],
     "prompt_number": 8
    },
    {
     "cell_type": "code",
     "collapsed": false,
     "input": [
      "add_features(comments_most_recent)"
     ],
     "language": "python",
     "metadata": {},
     "outputs": [
      {
       "output_type": "stream",
       "stream": "stderr",
       "text": [
        "/home/gautam/anaconda/lib/python2.7/site-packages/numexpr/necompiler.py:742: DeprecationWarning: using `oa_ndim == 0` when `op_axes` is NULL is deprecated. Use `oa_ndim == -1` or the MultiNew iterator for NumPy <1.8 compatibility\n",
        "  return compiled_ex(*arguments, **kwargs)\n"
       ]
      }
     ],
     "prompt_number": 9
    },
    {
     "cell_type": "code",
     "collapsed": false,
     "input": [
      "comments_most_recent.head()"
     ],
     "language": "python",
     "metadata": {},
     "outputs": [
      {
       "html": [
        "<div style=\"max-height:1000px;max-width:1500px;overflow:auto;\">\n",
        "<table border=\"1\" class=\"dataframe\">\n",
        "  <thead>\n",
        "    <tr style=\"text-align: right;\">\n",
        "      <th></th>\n",
        "      <th>idcomm_subm</th>\n",
        "      <th>user_id</th>\n",
        "      <th>submission_id</th>\n",
        "      <th>prev_comment_id</th>\n",
        "      <th>created</th>\n",
        "      <th>timestamp</th>\n",
        "      <th>content</th>\n",
        "      <th>subreddit</th>\n",
        "      <th>score</th>\n",
        "      <th>subm_title</th>\n",
        "      <th>...</th>\n",
        "      <th>comment_num_words</th>\n",
        "      <th>comment_length_log</th>\n",
        "      <th>comment_num_words_log</th>\n",
        "      <th>subm_num_comments_log</th>\n",
        "      <th>cube_score</th>\n",
        "      <th>cube_subm_score</th>\n",
        "      <th>cls</th>\n",
        "      <th>cls_color</th>\n",
        "      <th>polarity</th>\n",
        "      <th>subjectivity</th>\n",
        "    </tr>\n",
        "    <tr>\n",
        "      <th>comment_id</th>\n",
        "      <th></th>\n",
        "      <th></th>\n",
        "      <th></th>\n",
        "      <th></th>\n",
        "      <th></th>\n",
        "      <th></th>\n",
        "      <th></th>\n",
        "      <th></th>\n",
        "      <th></th>\n",
        "      <th></th>\n",
        "      <th></th>\n",
        "      <th></th>\n",
        "      <th></th>\n",
        "      <th></th>\n",
        "      <th></th>\n",
        "      <th></th>\n",
        "      <th></th>\n",
        "      <th></th>\n",
        "      <th></th>\n",
        "      <th></th>\n",
        "      <th></th>\n",
        "    </tr>\n",
        "  </thead>\n",
        "  <tbody>\n",
        "    <tr>\n",
        "      <th>t1_crmvn5p</th>\n",
        "      <td> 6482</td>\n",
        "      <td>        Apper64</td>\n",
        "      <td> t3_37i2hf</td>\n",
        "      <td>  t3_37i2hf</td>\n",
        "      <td> 1432758568</td>\n",
        "      <td> 1433801115</td>\n",
        "      <td> I lived in Rhode Island. Turning it into a lak...</td>\n",
        "      <td> DataIsBeautiful</td>\n",
        "      <td> 18</td>\n",
        "      <td> Visualized: How the insane amount of rain in </td>\n",
        "      <td>...</td>\n",
        "      <td> 15</td>\n",
        "      <td> 1.892095</td>\n",
        "      <td> 1.176091</td>\n",
        "      <td> 1.322219</td>\n",
        "      <td> 2.620741</td>\n",
        "      <td> 5</td>\n",
        "      <td>    good</td>\n",
        "      <td> 2</td>\n",
        "      <td> 0.800000</td>\n",
        "      <td> 0.750000</td>\n",
        "    </tr>\n",
        "    <tr>\n",
        "      <th>t1_crmx0pm</th>\n",
        "      <td> 6486</td>\n",
        "      <td> CHentaiMasterB</td>\n",
        "      <td> t3_37i2hf</td>\n",
        "      <td>  t3_37i2hf</td>\n",
        "      <td> 1432760701</td>\n",
        "      <td> 1433801115</td>\n",
        "      <td> If only we get could some of that water and st...</td>\n",
        "      <td> DataIsBeautiful</td>\n",
        "      <td>  6</td>\n",
        "      <td> Visualized: How the insane amount of rain in </td>\n",
        "      <td>...</td>\n",
        "      <td> 36</td>\n",
        "      <td> 2.271842</td>\n",
        "      <td> 1.556303</td>\n",
        "      <td> 1.322219</td>\n",
        "      <td> 1.817121</td>\n",
        "      <td> 5</td>\n",
        "      <td> neutral</td>\n",
        "      <td> 1</td>\n",
        "      <td>-0.038889</td>\n",
        "      <td> 0.372222</td>\n",
        "    </tr>\n",
        "    <tr>\n",
        "      <th>t1_crmzzbr</th>\n",
        "      <td> 6487</td>\n",
        "      <td>     Florinator</td>\n",
        "      <td> t3_37i2hf</td>\n",
        "      <td> t1_crmx0pm</td>\n",
        "      <td> 1432765637</td>\n",
        "      <td> 1433801115</td>\n",
        "      <td> I just read this today:\\n\\nhttp://www.msn.com/...</td>\n",
        "      <td> DataIsBeautiful</td>\n",
        "      <td>  1</td>\n",
        "      <td> Visualized: How the insane amount of rain in </td>\n",
        "      <td>...</td>\n",
        "      <td>  6</td>\n",
        "      <td> 2.158362</td>\n",
        "      <td> 0.778151</td>\n",
        "      <td> 1.322219</td>\n",
        "      <td> 1.000000</td>\n",
        "      <td> 5</td>\n",
        "      <td> neutral</td>\n",
        "      <td> 1</td>\n",
        "      <td> 0.000000</td>\n",
        "      <td> 0.000000</td>\n",
        "    </tr>\n",
        "    <tr>\n",
        "      <th>t1_crn0ejh</th>\n",
        "      <td> 6494</td>\n",
        "      <td>       McKushin</td>\n",
        "      <td> t3_37i2hf</td>\n",
        "      <td>  t3_37i2hf</td>\n",
        "      <td> 1432766376</td>\n",
        "      <td> 1433801116</td>\n",
        "      <td> Dammit OP. This isn't about how the rain could...</td>\n",
        "      <td> DataIsBeautiful</td>\n",
        "      <td>  3</td>\n",
        "      <td> Visualized: How the insane amount of rain in </td>\n",
        "      <td>...</td>\n",
        "      <td> 35</td>\n",
        "      <td> 2.283301</td>\n",
        "      <td> 1.544068</td>\n",
        "      <td> 1.322219</td>\n",
        "      <td> 1.442250</td>\n",
        "      <td> 5</td>\n",
        "      <td> neutral</td>\n",
        "      <td> 1</td>\n",
        "      <td> 0.000000</td>\n",
        "      <td> 0.500000</td>\n",
        "    </tr>\n",
        "    <tr>\n",
        "      <th>t1_crn83o5</th>\n",
        "      <td> 6498</td>\n",
        "      <td>      BUBBA_BOY</td>\n",
        "      <td> t3_37i2hf</td>\n",
        "      <td>  t3_37i2hf</td>\n",
        "      <td> 1432780176</td>\n",
        "      <td> 1433801116</td>\n",
        "      <td> For the love of God, someone tell Rick Perry t...</td>\n",
        "      <td> DataIsBeautiful</td>\n",
        "      <td>  1</td>\n",
        "      <td> Visualized: How the insane amount of rain in </td>\n",
        "      <td>...</td>\n",
        "      <td> 12</td>\n",
        "      <td> 1.785330</td>\n",
        "      <td> 1.079181</td>\n",
        "      <td> 1.322219</td>\n",
        "      <td> 1.000000</td>\n",
        "      <td> 5</td>\n",
        "      <td> neutral</td>\n",
        "      <td> 1</td>\n",
        "      <td> 0.625000</td>\n",
        "      <td> 0.600000</td>\n",
        "    </tr>\n",
        "  </tbody>\n",
        "</table>\n",
        "<p>5 rows \u00d7 37 columns</p>\n",
        "</div>"
       ],
       "metadata": {},
       "output_type": "pyout",
       "prompt_number": 10,
       "text": [
        "            idcomm_subm         user_id submission_id prev_comment_id  \\\n",
        "comment_id                                                              \n",
        "t1_crmvn5p         6482         Apper64     t3_37i2hf       t3_37i2hf   \n",
        "t1_crmx0pm         6486  CHentaiMasterB     t3_37i2hf       t3_37i2hf   \n",
        "t1_crmzzbr         6487      Florinator     t3_37i2hf      t1_crmx0pm   \n",
        "t1_crn0ejh         6494        McKushin     t3_37i2hf       t3_37i2hf   \n",
        "t1_crn83o5         6498       BUBBA_BOY     t3_37i2hf       t3_37i2hf   \n",
        "\n",
        "               created   timestamp  \\\n",
        "comment_id                           \n",
        "t1_crmvn5p  1432758568  1433801115   \n",
        "t1_crmx0pm  1432760701  1433801115   \n",
        "t1_crmzzbr  1432765637  1433801115   \n",
        "t1_crn0ejh  1432766376  1433801116   \n",
        "t1_crn83o5  1432780176  1433801116   \n",
        "\n",
        "                                                      content  \\\n",
        "comment_id                                                      \n",
        "t1_crmvn5p  I lived in Rhode Island. Turning it into a lak...   \n",
        "t1_crmx0pm  If only we get could some of that water and st...   \n",
        "t1_crmzzbr  I just read this today:\\n\\nhttp://www.msn.com/...   \n",
        "t1_crn0ejh  Dammit OP. This isn't about how the rain could...   \n",
        "t1_crn83o5  For the love of God, someone tell Rick Perry t...   \n",
        "\n",
        "                  subreddit  score  \\\n",
        "comment_id                           \n",
        "t1_crmvn5p  DataIsBeautiful     18   \n",
        "t1_crmx0pm  DataIsBeautiful      6   \n",
        "t1_crmzzbr  DataIsBeautiful      1   \n",
        "t1_crn0ejh  DataIsBeautiful      3   \n",
        "t1_crn83o5  DataIsBeautiful      1   \n",
        "\n",
        "                                               subm_title      ...       \\\n",
        "comment_id                                                     ...        \n",
        "t1_crmvn5p  Visualized: How the insane amount of rain in       ...        \n",
        "t1_crmx0pm  Visualized: How the insane amount of rain in       ...        \n",
        "t1_crmzzbr  Visualized: How the insane amount of rain in       ...        \n",
        "t1_crn0ejh  Visualized: How the insane amount of rain in       ...        \n",
        "t1_crn83o5  Visualized: How the insane amount of rain in       ...        \n",
        "\n",
        "           comment_num_words  comment_length_log  comment_num_words_log  \\\n",
        "comment_id                                                                \n",
        "t1_crmvn5p                15            1.892095               1.176091   \n",
        "t1_crmx0pm                36            2.271842               1.556303   \n",
        "t1_crmzzbr                 6            2.158362               0.778151   \n",
        "t1_crn0ejh                35            2.283301               1.544068   \n",
        "t1_crn83o5                12            1.785330               1.079181   \n",
        "\n",
        "           subm_num_comments_log  cube_score  cube_subm_score      cls  \\\n",
        "comment_id                                                               \n",
        "t1_crmvn5p              1.322219    2.620741                5     good   \n",
        "t1_crmx0pm              1.322219    1.817121                5  neutral   \n",
        "t1_crmzzbr              1.322219    1.000000                5  neutral   \n",
        "t1_crn0ejh              1.322219    1.442250                5  neutral   \n",
        "t1_crn83o5              1.322219    1.000000                5  neutral   \n",
        "\n",
        "            cls_color  polarity  subjectivity  \n",
        "comment_id                                     \n",
        "t1_crmvn5p          2  0.800000      0.750000  \n",
        "t1_crmx0pm          1 -0.038889      0.372222  \n",
        "t1_crmzzbr          1  0.000000      0.000000  \n",
        "t1_crn0ejh          1  0.000000      0.500000  \n",
        "t1_crn83o5          1  0.625000      0.600000  \n",
        "\n",
        "[5 rows x 37 columns]"
       ]
      }
     ],
     "prompt_number": 10
    },
    {
     "cell_type": "code",
     "collapsed": false,
     "input": [
      "good_df = comments_most_recent[comments_most_recent.cls == 'good']"
     ],
     "language": "python",
     "metadata": {},
     "outputs": [],
     "prompt_number": 11
    },
    {
     "cell_type": "code",
     "collapsed": false,
     "input": [
      "bad_df = comments_most_recent[comments_most_recent.cls == 'bad']"
     ],
     "language": "python",
     "metadata": {},
     "outputs": [],
     "prompt_number": 12
    },
    {
     "cell_type": "code",
     "collapsed": false,
     "input": [
      "neutral_df = comments_most_recent[(comments_most_recent.subm_score > 125) & \n",
      "                               (comments_most_recent.age_min > 100) &\n",
      "                               (comments_most_recent.age_min < 1000) &\n",
      "                               (comments_most_recent.comment_num_words < 300) &\n",
      "                               (comments_most_recent.cls == 'neutral')]"
     ],
     "language": "python",
     "metadata": {},
     "outputs": [],
     "prompt_number": 13
    },
    {
     "cell_type": "code",
     "collapsed": false,
     "input": [
      "len(neutral_df)"
     ],
     "language": "python",
     "metadata": {},
     "outputs": [
      {
       "metadata": {},
       "output_type": "pyout",
       "prompt_number": 14,
       "text": [
        "15943"
       ]
      }
     ],
     "prompt_number": 14
    },
    {
     "cell_type": "code",
     "collapsed": false,
     "input": [
      "len(good_df)"
     ],
     "language": "python",
     "metadata": {},
     "outputs": [
      {
       "metadata": {},
       "output_type": "pyout",
       "prompt_number": 15,
       "text": [
        "1966"
       ]
      }
     ],
     "prompt_number": 15
    },
    {
     "cell_type": "code",
     "collapsed": false,
     "input": [
      "len(bad_df)"
     ],
     "language": "python",
     "metadata": {},
     "outputs": [
      {
       "metadata": {},
       "output_type": "pyout",
       "prompt_number": 16,
       "text": [
        "1980"
       ]
      }
     ],
     "prompt_number": 16
    },
    {
     "cell_type": "code",
     "collapsed": false,
     "input": [
      "comments_df = pd.concat([good_df, neutral_df, bad_df])"
     ],
     "language": "python",
     "metadata": {},
     "outputs": [],
     "prompt_number": 17
    },
    {
     "cell_type": "code",
     "collapsed": false,
     "input": [
      "good_bad_df = pd.concat([good_df, bad_df])"
     ],
     "language": "python",
     "metadata": {},
     "outputs": [],
     "prompt_number": 18
    },
    {
     "cell_type": "code",
     "collapsed": false,
     "input": [
      "len(comments_df)/float(len(comments_most_recent))"
     ],
     "language": "python",
     "metadata": {},
     "outputs": [
      {
       "metadata": {},
       "output_type": "pyout",
       "prompt_number": 19,
       "text": [
        "0.8047014079948211"
       ]
      }
     ],
     "prompt_number": 19
    },
    {
     "cell_type": "code",
     "collapsed": false,
     "input": [
      "len(comments_df)"
     ],
     "language": "python",
     "metadata": {},
     "outputs": [
      {
       "metadata": {},
       "output_type": "pyout",
       "prompt_number": 20,
       "text": [
        "19889"
       ]
      }
     ],
     "prompt_number": 20
    },
    {
     "cell_type": "code",
     "collapsed": false,
     "input": [
      "def scatter(x, y, c='b', cmap=None, s=10, alpha=0.2, edgecolor='', xlabel=None, ylabel=None, title=None, pic_title=None, loc=0):\n",
      "    plt.clf()\n",
      "    plt.scatter(x, y, c=c, cmap=cmap, s=s, alpha=alpha, edgecolor='')\n",
      "    if title:\n",
      "        plt.title(title)\n",
      "    if xlabel:\n",
      "        plt.xlabel(xlabel)\n",
      "    if ylabel:\n",
      "        plt.ylabel(ylabel)\n",
      "    \n",
      "    #make_legend\n",
      "    for cls in classes:\n",
      "        if cls == 'good' or cls == 'bad':\n",
      "            plt.scatter([],[],c=colors[classes[cls]],label=cls)\n",
      "    plt.legend(fontsize=6, loc=loc)\n",
      "    \n",
      "    if pic_title:\n",
      "        plt.savefig(pic_title, dpi=300)\n",
      "        \n",
      "def scatter_df(df, xcol, ycol, c=None, cmap=None, s=10, alpha=0.2, edgecolor='', xlabel=None, ylabel=None, title=None, pic_title=None, loc=0):\n",
      "        if c:\n",
      "            c=df[c]\n",
      "            cmap = lcm\n",
      "        else:\n",
      "            c='b'\n",
      "        scatter(x=df[xcol], y=df[ycol], c=c, cmap=cmap, s=s, alpha=alpha, edgecolor=edgecolor, xlabel=xlabel, ylabel=ylabel, title=title, pic_title=pic_title, loc=loc)\n",
      " "
     ],
     "language": "python",
     "metadata": {},
     "outputs": [],
     "prompt_number": 80
    },
    {
     "cell_type": "code",
     "collapsed": false,
     "input": [
      "scatter_df(\n",
      "           df=good_bad_df, \n",
      "           xcol='polarity', \n",
      "           ycol='subjectivity',\n",
      "           c='cls_color'\n",
      "           )"
     ],
     "language": "python",
     "metadata": {},
     "outputs": [
      {
       "metadata": {},
       "output_type": "display_data",
       "png": "[encoded data removed]",
       "text": [
        "<matplotlib.figure.Figure at 0x481ac10>"
       ]
      }
     ],
     "prompt_number": 22
    },
    {
     "cell_type": "code",
     "collapsed": false,
     "input": [
      "from sklearn import svm"
     ],
     "language": "python",
     "metadata": {},
     "outputs": [],
     "prompt_number": 23
    },
    {
     "cell_type": "code",
     "collapsed": false,
     "input": [
      "text_mnb = Pipeline([('vect', CountVectorizer(ngram_range = (1,2), stop_words='english', max_features=100)),\n",
      "                     ('tfidf', TfidfTransformer()),\n",
      "                     ('mnb', MultinomialNB()),\n",
      "                     ])"
     ],
     "language": "python",
     "metadata": {},
     "outputs": [],
     "prompt_number": 24
    },
    {
     "cell_type": "code",
     "collapsed": false,
     "input": [
      "X_train, X_test, y_train, y_test = cross_validation.train_test_split(comments_df.content, comments_df.cls_color, test_size=0.3, random_state=0)"
     ],
     "language": "python",
     "metadata": {},
     "outputs": [],
     "prompt_number": 25
    },
    {
     "cell_type": "code",
     "collapsed": false,
     "input": [
      "text_mnb = text_mnb.fit(X_train, y_train)\n"
     ],
     "language": "python",
     "metadata": {},
     "outputs": [
      {
       "output_type": "stream",
       "stream": "stderr",
       "text": [
        "/home/gautam/anaconda/lib/python2.7/site-packages/numpy/core/fromnumeric.py:2499: VisibleDeprecationWarning: `rank` is deprecated; use the `ndim` attribute or function instead. To find the rank of a matrix see `numpy.linalg.matrix_rank`.\n",
        "  VisibleDeprecationWarning)\n"
       ]
      }
     ],
     "prompt_number": 26
    },
    {
     "cell_type": "code",
     "collapsed": false,
     "input": [
      "predicted = text_mnb.predict(X_test)"
     ],
     "language": "python",
     "metadata": {},
     "outputs": [],
     "prompt_number": 27
    },
    {
     "cell_type": "code",
     "collapsed": false,
     "input": [
      "np.mean(predicted == y_test)"
     ],
     "language": "python",
     "metadata": {},
     "outputs": [
      {
       "metadata": {},
       "output_type": "pyout",
       "prompt_number": 28,
       "text": [
        "0.80576504105915869"
       ]
      }
     ],
     "prompt_number": 28
    },
    {
     "cell_type": "code",
     "collapsed": false,
     "input": [
      "metrics.confusion_matrix(predicted, y_test)"
     ],
     "language": "python",
     "metadata": {},
     "outputs": [
      {
       "metadata": {},
       "output_type": "pyout",
       "prompt_number": 29,
       "text": [
        "array([[   0,    0,    0],\n",
        "       [ 593, 4808,  566],\n",
        "       [   0,    0,    0]])"
       ]
      }
     ],
     "prompt_number": 29
    },
    {
     "cell_type": "code",
     "collapsed": false,
     "input": [
      "text_svm = Pipeline([('vect', CountVectorizer(ngram_range = (1,2), stop_words='english', max_features=100)),\n",
      "                     ('tfidf', TfidfTransformer()),\n",
      "                     ('svc', svm.SVC()),\n",
      "                     ])"
     ],
     "language": "python",
     "metadata": {},
     "outputs": [],
     "prompt_number": 31
    },
    {
     "cell_type": "code",
     "collapsed": false,
     "input": [
      "text_svm.fit(X_train, y_train)"
     ],
     "language": "python",
     "metadata": {},
     "outputs": [
      {
       "metadata": {},
       "output_type": "pyout",
       "prompt_number": 32,
       "text": [
        "Pipeline(steps=[('vect', CountVectorizer(analyzer=u'word', binary=False, charset=None,\n",
        "        charset_error=None, decode_error=u'strict',\n",
        "        dtype=<type 'numpy.int64'>, encoding=u'utf-8', input=u'content',\n",
        "        lowercase=True, max_df=1.0, max_features=100, min_df=1,\n",
        "        ngram_range=(1, 2), prepr...f', max_iter=-1, probability=False, random_state=None,\n",
        "  shrinking=True, tol=0.001, verbose=False))])"
       ]
      }
     ],
     "prompt_number": 32
    },
    {
     "cell_type": "code",
     "collapsed": false,
     "input": [
      "predicted_svm = text_svm.predict(X_test)"
     ],
     "language": "python",
     "metadata": {},
     "outputs": [],
     "prompt_number": 33
    },
    {
     "cell_type": "code",
     "collapsed": false,
     "input": [
      "np.mean(predicted_svm == y_test)"
     ],
     "language": "python",
     "metadata": {},
     "outputs": [
      {
       "metadata": {},
       "output_type": "pyout",
       "prompt_number": 34,
       "text": [
        "0.80576504105915869"
       ]
      }
     ],
     "prompt_number": 34
    },
    {
     "cell_type": "code",
     "collapsed": false,
     "input": [
      "from sklearn.linear_model import LogisticRegression"
     ],
     "language": "python",
     "metadata": {},
     "outputs": [],
     "prompt_number": 35
    },
    {
     "cell_type": "code",
     "collapsed": false,
     "input": [
      "text_logit = Pipeline([('vect', CountVectorizer(ngram_range = (1,2), stop_words='english')),\n",
      "                     ('tfidf', TfidfTransformer()),\n",
      "                     ('logit', LogisticRegression()),\n",
      "                     ])"
     ],
     "language": "python",
     "metadata": {},
     "outputs": [],
     "prompt_number": 36
    },
    {
     "cell_type": "code",
     "collapsed": false,
     "input": [],
     "language": "python",
     "metadata": {},
     "outputs": [],
     "prompt_number": 36
    },
    {
     "cell_type": "code",
     "collapsed": false,
     "input": [
      "text_logit.fit(X_train, y_train)"
     ],
     "language": "python",
     "metadata": {},
     "outputs": [
      {
       "metadata": {},
       "output_type": "pyout",
       "prompt_number": 37,
       "text": [
        "Pipeline(steps=[('vect', CountVectorizer(analyzer=u'word', binary=False, charset=None,\n",
        "        charset_error=None, decode_error=u'strict',\n",
        "        dtype=<type 'numpy.int64'>, encoding=u'utf-8', input=u'content',\n",
        "        lowercase=True, max_df=1.0, max_features=None, min_df=1,\n",
        "        ngram_range=(1, 2), prep...e, fit_intercept=True,\n",
        "          intercept_scaling=1, penalty='l2', random_state=None, tol=0.0001))])"
       ]
      }
     ],
     "prompt_number": 37
    },
    {
     "cell_type": "code",
     "collapsed": false,
     "input": [
      "predicted_svm = text_svm.predict(X_test)"
     ],
     "language": "python",
     "metadata": {},
     "outputs": [],
     "prompt_number": 38
    },
    {
     "cell_type": "code",
     "collapsed": false,
     "input": [],
     "language": "python",
     "metadata": {},
     "outputs": [],
     "prompt_number": 38
    },
    {
     "cell_type": "code",
     "collapsed": false,
     "input": [],
     "language": "python",
     "metadata": {},
     "outputs": [],
     "prompt_number": 38
    },
    {
     "cell_type": "code",
     "collapsed": false,
     "input": [
      "from textblob import TextBlob"
     ],
     "language": "python",
     "metadata": {},
     "outputs": [],
     "prompt_number": 39
    },
    {
     "cell_type": "code",
     "collapsed": false,
     "input": [],
     "language": "python",
     "metadata": {},
     "outputs": [],
     "prompt_number": 39
    },
    {
     "cell_type": "code",
     "collapsed": false,
     "input": [],
     "language": "python",
     "metadata": {},
     "outputs": [],
     "prompt_number": 96
    },
    {
     "cell_type": "code",
     "collapsed": false,
     "input": [],
     "language": "python",
     "metadata": {},
     "outputs": [],
     "prompt_number": 96
    },
    {
     "cell_type": "code",
     "collapsed": false,
     "input": [],
     "language": "python",
     "metadata": {},
     "outputs": [],
     "prompt_number": 96
    },
    {
     "cell_type": "code",
     "collapsed": false,
     "input": [],
     "language": "python",
     "metadata": {},
     "outputs": [],
     "prompt_number": 96
    },
    {
     "cell_type": "code",
     "collapsed": false,
     "input": [],
     "language": "python",
     "metadata": {},
     "outputs": [],
     "prompt_number": 96
    },
    {
     "cell_type": "code",
     "collapsed": false,
     "input": [
      "slang = pd.read_csv(\"internet_slang.csv\")"
     ],
     "language": "python",
     "metadata": {},
     "outputs": [],
     "prompt_number": 96
    },
    {
     "cell_type": "code",
     "collapsed": false,
     "input": [
      "slang_terms = [i.lower() for i in slang.term]"
     ],
     "language": "python",
     "metadata": {},
     "outputs": [],
     "prompt_number": 96
    },
    {
     "cell_type": "code",
     "collapsed": false,
     "input": [],
     "language": "python",
     "metadata": {},
     "outputs": [],
     "prompt_number": 96
    },
    {
     "cell_type": "code",
     "collapsed": false,
     "input": [],
     "language": "python",
     "metadata": {},
     "outputs": [],
     "prompt_number": 95
    },
    {
     "cell_type": "code",
     "collapsed": false,
     "input": [],
     "language": "python",
     "metadata": {},
     "outputs": [],
     "prompt_number": 95
    },
    {
     "cell_type": "code",
     "collapsed": false,
     "input": [
      "good_bad_df['num_capital'] = good_bad_df.content.apply(lambda x : sum([1 for i in x if i.isupper()]))"
     ],
     "language": "python",
     "metadata": {},
     "outputs": [],
     "prompt_number": 40
    },
    {
     "cell_type": "code",
     "collapsed": false,
     "input": [
      "good_bad_df['num_capital_log'] = np.log10(good_bad_df.num_capital)"
     ],
     "language": "python",
     "metadata": {},
     "outputs": [],
     "prompt_number": 41
    },
    {
     "cell_type": "code",
     "collapsed": false,
     "input": [
      "good_bad_df['percent_capital'] = good_bad_df.num_capital/good_bad_df.comment_length"
     ],
     "language": "python",
     "metadata": {},
     "outputs": [],
     "prompt_number": 42
    },
    {
     "cell_type": "code",
     "collapsed": false,
     "input": [
      "good_bad_df['percent_capital_log'] = good_bad_df.num_capital_log - good_bad_df.comment_length_log"
     ],
     "language": "python",
     "metadata": {},
     "outputs": [],
     "prompt_number": 43
    },
    {
     "cell_type": "code",
     "collapsed": false,
     "input": [
      "scatter_df(\n",
      "           df=good_bad_df, \n",
      "           xcol='percent_capital_log', \n",
      "           ycol='cube_score',\n",
      "           c='cls_color'\n",
      "           )"
     ],
     "language": "python",
     "metadata": {},
     "outputs": [
      {
       "metadata": {},
       "output_type": "display_data",
       "png": "[encoded data removed]",
       "text": [
        "<matplotlib.figure.Figure at 0x11ad5b50>"
       ]
      }
     ],
     "prompt_number": 44
    },
    {
     "cell_type": "code",
     "collapsed": false,
     "input": [
      "good_bad_df['num_slang'] = good_bad_df.content.apply(lambda x : sum([1 for w in TextBlob(x).tokenize() if w.lower() in slang_terms]))"
     ],
     "language": "python",
     "metadata": {},
     "outputs": [],
     "prompt_number": 49
    },
    {
     "cell_type": "code",
     "collapsed": false,
     "input": [
      "good_bad_df['num_slang_log'] = np.log10(good_bad_df.num_slang)"
     ],
     "language": "python",
     "metadata": {},
     "outputs": [],
     "prompt_number": 50
    },
    {
     "cell_type": "code",
     "collapsed": false,
     "input": [
      "good_bad_df['percent_slang'] = good_bad_df.num_slang/good_bad_df.comment_num_words"
     ],
     "language": "python",
     "metadata": {},
     "outputs": [],
     "prompt_number": 51
    },
    {
     "cell_type": "code",
     "collapsed": false,
     "input": [
      "good_bad_df['percent_slang_log'] = good_bad_df.num_slang_log - good_bad_df.comment_length_log"
     ],
     "language": "python",
     "metadata": {},
     "outputs": [],
     "prompt_number": 52
    },
    {
     "cell_type": "code",
     "collapsed": false,
     "input": [
      "scatter_df(\n",
      "           df=good_bad_df, \n",
      "           xcol='percent_slang', \n",
      "           ycol='percent_capital',\n",
      "           c='cls_color',\n",
      "           alpha = 0.5\n",
      "           )"
     ],
     "language": "python",
     "metadata": {},
     "outputs": [
      {
       "metadata": {},
       "output_type": "display_data",
       "png": "[encoded data removed]",
       "text": [
        "<matplotlib.figure.Figure at 0x19d900d0>"
       ]
      }
     ],
     "prompt_number": 54
    },
    {
     "cell_type": "code",
     "collapsed": false,
     "input": [],
     "language": "python",
     "metadata": {},
     "outputs": [],
     "prompt_number": 47
    },
    {
     "cell_type": "code",
     "collapsed": false,
     "input": [],
     "language": "python",
     "metadata": {},
     "outputs": [],
     "prompt_number": 49
    },
    {
     "cell_type": "code",
     "collapsed": false,
     "input": [],
     "language": "python",
     "metadata": {},
     "outputs": [],
     "prompt_number": 58
    },
    {
     "cell_type": "code",
     "collapsed": false,
     "input": [],
     "language": "python",
     "metadata": {},
     "outputs": [
      {
       "metadata": {},
       "output_type": "pyout",
       "prompt_number": 59,
       "text": [
        "<strong>Theory of Reddit</strong>"
       ]
      }
     ],
     "prompt_number": 59
    },
    {
     "cell_type": "code",
     "collapsed": false,
     "input": [],
     "language": "python",
     "metadata": {},
     "outputs": [],
     "prompt_number": 47
    },
    {
     "cell_type": "code",
     "collapsed": false,
     "input": [],
     "language": "python",
     "metadata": {},
     "outputs": [],
     "prompt_number": 48
    },
    {
     "cell_type": "code",
     "collapsed": false,
     "input": [],
     "language": "python",
     "metadata": {},
     "outputs": [],
     "prompt_number": 76
    },
    {
     "cell_type": "code",
     "collapsed": false,
     "input": [],
     "language": "python",
     "metadata": {},
     "outputs": [],
     "prompt_number": 82
    },
    {
     "cell_type": "code",
     "collapsed": false,
     "input": [],
     "language": "python",
     "metadata": {},
     "outputs": [
      {
       "metadata": {},
       "output_type": "pyout",
       "prompt_number": 83,
       "text": [
        "[u'bag']"
       ]
      }
     ],
     "prompt_number": 83
    },
    {
     "cell_type": "code",
     "collapsed": false,
     "input": [],
     "language": "python",
     "metadata": {},
     "outputs": [],
     "prompt_number": 85
    },
    {
     "cell_type": "code",
     "collapsed": false,
     "input": [
      "def train_test(X, y, test_size=0.4):\n",
      "    return cross_validation.train_test_split(X, y, test_size=test_size, random_state=0)"
     ],
     "language": "python",
     "metadata": {},
     "outputs": [],
     "prompt_number": 55
    },
    {
     "cell_type": "code",
     "collapsed": false,
     "input": [
      "X_train, X_test, y_train, y_test = train_test(good_bad_df.content, good_bad_df.cls)"
     ],
     "language": "python",
     "metadata": {},
     "outputs": [],
     "prompt_number": 56
    },
    {
     "cell_type": "code",
     "collapsed": false,
     "input": [],
     "language": "python",
     "metadata": {},
     "outputs": [],
     "prompt_number": 69
    },
    {
     "cell_type": "code",
     "collapsed": false,
     "input": [],
     "language": "python",
     "metadata": {},
     "outputs": [],
     "prompt_number": 69
    },
    {
     "cell_type": "code",
     "collapsed": false,
     "input": [],
     "language": "python",
     "metadata": {},
     "outputs": [],
     "prompt_number": 69
    },
    {
     "cell_type": "code",
     "collapsed": false,
     "input": [],
     "language": "python",
     "metadata": {},
     "outputs": [],
     "prompt_number": 69
    },
    {
     "cell_type": "code",
     "collapsed": false,
     "input": [],
     "language": "python",
     "metadata": {},
     "outputs": [],
     "prompt_number": 69
    },
    {
     "cell_type": "code",
     "collapsed": false,
     "input": [],
     "language": "python",
     "metadata": {},
     "outputs": [],
     "prompt_number": 69
    },
    {
     "cell_type": "code",
     "collapsed": false,
     "input": [],
     "language": "python",
     "metadata": {},
     "outputs": [],
     "prompt_number": 69
    },
    {
     "cell_type": "code",
     "collapsed": false,
     "input": [],
     "language": "python",
     "metadata": {},
     "outputs": [],
     "prompt_number": 69
    },
    {
     "cell_type": "code",
     "collapsed": false,
     "input": [],
     "language": "python",
     "metadata": {},
     "outputs": [],
     "prompt_number": 69
    },
    {
     "cell_type": "code",
     "collapsed": false,
     "input": [],
     "language": "python",
     "metadata": {},
     "outputs": [],
     "prompt_number": 69
    },
    {
     "cell_type": "code",
     "collapsed": false,
     "input": [
      "swear_words = open(\"swear_words.txt\", 'r')\n",
      "swear_words = swear_words.readlines()\n",
      "swears = [i.split(':')[0] for i in swear_words[1:-1]]\n",
      "swears2 = [i[1:-1].lower() if i[0] == '\"' else i.lower() for i in swears]"
     ],
     "language": "python",
     "metadata": {},
     "outputs": [],
     "prompt_number": 63
    },
    {
     "cell_type": "code",
     "collapsed": false,
     "input": [],
     "language": "python",
     "metadata": {},
     "outputs": [],
     "prompt_number": 69
    },
    {
     "cell_type": "code",
     "collapsed": false,
     "input": [],
     "language": "python",
     "metadata": {},
     "outputs": [],
     "prompt_number": 69
    },
    {
     "cell_type": "code",
     "collapsed": false,
     "input": [
      "import string"
     ],
     "language": "python",
     "metadata": {},
     "outputs": [],
     "prompt_number": 57
    },
    {
     "cell_type": "code",
     "collapsed": false,
     "input": [
      "good_bad_df['num_punc'] = good_bad_df.content.apply(lambda x : sum([1 for i in x if i in string.punctuation]))"
     ],
     "language": "python",
     "metadata": {},
     "outputs": [],
     "prompt_number": 58
    },
    {
     "cell_type": "code",
     "collapsed": false,
     "input": [
      "good_bad_df['num_punc_log'] = np.log10(good_bad_df.num_punc)"
     ],
     "language": "python",
     "metadata": {},
     "outputs": [],
     "prompt_number": 59
    },
    {
     "cell_type": "code",
     "collapsed": false,
     "input": [
      "good_bad_df['percent_punc'] = good_bad_df.num_punc/good_bad_df.comment_length"
     ],
     "language": "python",
     "metadata": {},
     "outputs": [],
     "prompt_number": 60
    },
    {
     "cell_type": "code",
     "collapsed": false,
     "input": [
      "good_bad_df['percent_punc_log'] = good_bad_df.num_punc_log - good_bad_df.comment_length_log"
     ],
     "language": "python",
     "metadata": {},
     "outputs": [],
     "prompt_number": 61
    },
    {
     "cell_type": "code",
     "collapsed": false,
     "input": [
      "good_bad_df['num_swears'] = good_bad_df.content.apply(lambda x : sum([1 for w in TextBlob(x).tokenize() if w.lower() in swears2]))"
     ],
     "language": "python",
     "metadata": {},
     "outputs": [],
     "prompt_number": 64
    },
    {
     "cell_type": "code",
     "collapsed": false,
     "input": [],
     "language": "python",
     "metadata": {},
     "outputs": [],
     "prompt_number": 64
    },
    {
     "cell_type": "code",
     "collapsed": false,
     "input": [
      "good_bad_df['num_swears_log'] = np.log10(good_bad_df.num_swears)"
     ],
     "language": "python",
     "metadata": {},
     "outputs": [],
     "prompt_number": 65
    },
    {
     "cell_type": "code",
     "collapsed": false,
     "input": [
      "good_bad_df['percent_swears'] = good_bad_df.num_swears/good_bad_df.comment_num_words"
     ],
     "language": "python",
     "metadata": {},
     "outputs": [],
     "prompt_number": 66
    },
    {
     "cell_type": "code",
     "collapsed": false,
     "input": [
      "good_bad_df['percent_swears_log'] = good_bad_df.num_swears_log - good_bad_df.comment_num_words_log"
     ],
     "language": "python",
     "metadata": {},
     "outputs": [],
     "prompt_number": 76
    },
    {
     "cell_type": "code",
     "collapsed": false,
     "input": [
      "good_bad_df['avg_word_length'] = good_bad_df.comment_length/good_bad_df.comment_num_words"
     ],
     "language": "python",
     "metadata": {},
     "outputs": [],
     "prompt_number": 77
    },
    {
     "cell_type": "code",
     "collapsed": false,
     "input": [
      "good_bad_df['avg_word_length_log'] = good_bad_df.comment_length_log - good_bad_df.comment_num_words_log"
     ],
     "language": "python",
     "metadata": {},
     "outputs": [],
     "prompt_number": 78
    },
    {
     "cell_type": "code",
     "collapsed": false,
     "input": [
      "scatter_df(\n",
      "           df=good_bad_df, \n",
      "           xcol='percent_capital_log', \n",
      "           ycol='percent_swears_log',\n",
      "           c='cls_color',\n",
      "           alpha = 0.5,\n",
      "           xlabel=\"$log_{10}$(% uppercase)\",\n",
      "           ylabel=\"$log_{10}$(% profanity)\",\n",
      "           title=\"Profanity vs uppercase\", pic_title=\"profVSupper\"\n",
      "           )"
     ],
     "language": "python",
     "metadata": {},
     "outputs": [
      {
       "metadata": {},
       "output_type": "display_data",
       "png": "[encoded data removed]",
       "text": [
        "<matplotlib.figure.Figure at 0xce56ed0>"
       ]
      }
     ],
     "prompt_number": 89
    },
    {
     "cell_type": "code",
     "collapsed": false,
     "input": [],
     "language": "python",
     "metadata": {},
     "outputs": [],
     "prompt_number": 83
    },
    {
     "cell_type": "code",
     "collapsed": false,
     "input": [],
     "language": "python",
     "metadata": {},
     "outputs": [],
     "prompt_number": 83
    },
    {
     "cell_type": "code",
     "collapsed": false,
     "input": [],
     "language": "python",
     "metadata": {},
     "outputs": [],
     "prompt_number": 83
    },
    {
     "cell_type": "code",
     "collapsed": false,
     "input": [
      "model_df = good_bad_df[['subm_score', 'subm_num_comments', \n",
      "                        'comment_length', 'comment_num_words', \n",
      "                        'percent_capital', 'percent_slang', \n",
      "                        'percent_punc', 'avg_word_length', 'percent_swears']]"
     ],
     "language": "python",
     "metadata": {},
     "outputs": [],
     "prompt_number": 84
    },
    {
     "cell_type": "code",
     "collapsed": false,
     "input": [
      "X_train, X_test, y_train, y_test = train_test(model_df, good_bad_df.cls)"
     ],
     "language": "python",
     "metadata": {},
     "outputs": [],
     "prompt_number": 85
    },
    {
     "cell_type": "code",
     "collapsed": false,
     "input": [
      "from sklearn.linear_model import LogisticRegression"
     ],
     "language": "python",
     "metadata": {},
     "outputs": [],
     "prompt_number": 437
    },
    {
     "cell_type": "code",
     "collapsed": false,
     "input": [
      "lg = LogisticRegression()\n",
      "lg.fit(X_train, y_train)\n",
      "pred = lg.predict(X_test)\n",
      "metrics.confusion_matrix(pred, y_test), np.mean(y_test == pred)"
     ],
     "language": "python",
     "metadata": {},
     "outputs": [
      {
       "metadata": {},
       "output_type": "pyout",
       "prompt_number": 438,
       "text": [
        "(array([[522, 420],\n",
        "       [260, 377]]), 0.5693476884103863)"
       ]
      }
     ],
     "prompt_number": 438
    },
    {
     "cell_type": "code",
     "collapsed": false,
     "input": [
      "from sklearn.tree import DecisionTreeClassifier"
     ],
     "language": "python",
     "metadata": {},
     "outputs": [],
     "prompt_number": 439
    },
    {
     "cell_type": "code",
     "collapsed": false,
     "input": [
      "dt = DecisionTreeClassifier()\n",
      "dt.fit(X_train, y_train)\n",
      "pred = dt.predict(X_test)\n",
      "metrics.confusion_matrix(pred, y_test), np.mean(y_test == pred)"
     ],
     "language": "python",
     "metadata": {},
     "outputs": [
      {
       "metadata": {},
       "output_type": "pyout",
       "prompt_number": 440,
       "text": [
        "(array([[423, 349],\n",
        "       [359, 448]]), 0.55161494616846107)"
       ]
      }
     ],
     "prompt_number": 440
    },
    {
     "cell_type": "code",
     "collapsed": false,
     "input": [
      "from sklearn import metrics"
     ],
     "language": "python",
     "metadata": {},
     "outputs": [],
     "prompt_number": 441
    },
    {
     "cell_type": "code",
     "collapsed": false,
     "input": [
      "from sklearn.naive_bayes import MultinomialNB"
     ],
     "language": "python",
     "metadata": {},
     "outputs": [],
     "prompt_number": 442
    },
    {
     "cell_type": "code",
     "collapsed": false,
     "input": [
      "mnb = MultinomialNB()\n",
      "mnb.fit(X_train, y_train)\n",
      "pred = mnb.predict(X_test)\n",
      "metrics.confusion_matrix(pred, y_test), np.mean(y_test == pred)"
     ],
     "language": "python",
     "metadata": {},
     "outputs": [
      {
       "metadata": {},
       "output_type": "pyout",
       "prompt_number": 443,
       "text": [
        "(array([[352, 309],\n",
        "       [430, 488]]), 0.5319822672577581)"
       ]
      }
     ],
     "prompt_number": 443
    },
    {
     "cell_type": "code",
     "collapsed": false,
     "input": [
      "print metrics.classification_report(y_test, pred)"
     ],
     "language": "python",
     "metadata": {},
     "outputs": [
      {
       "output_type": "stream",
       "stream": "stdout",
       "text": [
        "             precision    recall  f1-score   support\n",
        "\n",
        "        bad       0.53      0.45      0.49       782\n",
        "       good       0.53      0.61      0.57       797\n",
        "\n",
        "avg / total       0.53      0.53      0.53      1579\n",
        "\n"
       ]
      }
     ],
     "prompt_number": 444
    },
    {
     "cell_type": "code",
     "collapsed": false,
     "input": [
      "def classify(classifier, X_train, X_test, y_train, y_test):\n",
      "    classifier.fit(X_train, y_train)\n",
      "    pred = classifier.predict(X_test)\n",
      "    print metrics.confusion_matrix(pred, y_test)\n",
      "    print np.mean(y_test == pred)\n",
      "    print metrics.classification_report(y_test, pred)"
     ],
     "language": "python",
     "metadata": {},
     "outputs": [],
     "prompt_number": 86
    },
    {
     "cell_type": "code",
     "collapsed": false,
     "input": [
      "from sklearn.ensemble import RandomForestClassifier"
     ],
     "language": "python",
     "metadata": {},
     "outputs": [],
     "prompt_number": 87
    },
    {
     "cell_type": "code",
     "collapsed": false,
     "input": [
      "classify(RandomForestClassifier(), *train_test(model_df, good_bad_df.cls))"
     ],
     "language": "python",
     "metadata": {},
     "outputs": [
      {
       "output_type": "stream",
       "stream": "stdout",
       "text": [
        "[[516 405]\n",
        " [266 392]]\n",
        "0.575047498417\n",
        "             precision    recall  f1-score   support\n",
        "\n",
        "        bad       0.56      0.66      0.61       782\n",
        "       good       0.60      0.49      0.54       797\n",
        "\n",
        "avg / total       0.58      0.58      0.57      1579\n",
        "\n"
       ]
      }
     ],
     "prompt_number": 89
    },
    {
     "cell_type": "code",
     "collapsed": false,
     "input": [
      "classify(Pipeline([('vect', CountVectorizer(ngram_range = (1,4), stop_words='english', max_features=1000)),\n",
      "                     ('tfidf', TfidfTransformer(use_idf=False)),\n",
      "                     ('gnb', MultinomialNB()),\n",
      "                     ]), \n",
      "         *train_test(good_bad_df.content, good_bad_df.cls))"
     ],
     "language": "python",
     "metadata": {},
     "outputs": [
      {
       "output_type": "stream",
       "stream": "stdout",
       "text": [
        "[[542 358]\n",
        " [240 439]]\n",
        "0.62127929069\n",
        "             precision    recall  f1-score   support\n",
        "\n",
        "        bad       0.60      0.69      0.64       782\n",
        "       good       0.65      0.55      0.59       797\n",
        "\n",
        "avg / total       0.62      0.62      0.62      1579\n",
        "\n"
       ]
      }
     ],
     "prompt_number": 467
    },
    {
     "cell_type": "code",
     "collapsed": false,
     "input": [
      "from sklearn.svm import SVC"
     ],
     "language": "python",
     "metadata": {},
     "outputs": [],
     "prompt_number": 367
    },
    {
     "cell_type": "code",
     "collapsed": false,
     "input": [
      "classify(MultinomialNB())"
     ],
     "language": "python",
     "metadata": {},
     "outputs": [
      {
       "output_type": "stream",
       "stream": "stdout",
       "text": [
        "[[352 309]\n",
        " [430 488]]\n",
        "0.531982267258\n",
        "             precision    recall  f1-score   support\n",
        "\n",
        "        bad       0.53      0.45      0.49       782\n",
        "       good       0.53      0.61      0.57       797\n",
        "\n",
        "avg / total       0.53      0.53      0.53      1579\n",
        "\n"
       ]
      }
     ],
     "prompt_number": 299
    },
    {
     "cell_type": "code",
     "collapsed": false,
     "input": [
      "classify(LogisticRegression())"
     ],
     "language": "python",
     "metadata": {},
     "outputs": [
      {
       "output_type": "stream",
       "stream": "stdout",
       "text": [
        "[[522 420]\n",
        " [260 377]]\n",
        "0.56934768841\n",
        "             precision    recall  f1-score   support\n",
        "\n",
        "        bad       0.55      0.67      0.61       782\n",
        "       good       0.59      0.47      0.53       797\n",
        "\n",
        "avg / total       0.57      0.57      0.57      1579\n",
        "\n"
       ]
      }
     ],
     "prompt_number": 300
    },
    {
     "cell_type": "code",
     "collapsed": false,
     "input": [],
     "language": "python",
     "metadata": {},
     "outputs": [],
     "prompt_number": 71
    },
    {
     "cell_type": "code",
     "collapsed": false,
     "input": [],
     "language": "python",
     "metadata": {},
     "outputs": [],
     "prompt_number": 71
    },
    {
     "cell_type": "code",
     "collapsed": false,
     "input": [
      "text_gnb = Pipeline([('vect', CountVectorizer(ngram_range = (1,4), stop_words='english')),\n",
      "                     ('tfidf', TfidfTransformer(use_idf=False)),\n",
      "                     ('gnb', MultinomialNB()),\n",
      "                     ])"
     ],
     "language": "python",
     "metadata": {},
     "outputs": [],
     "prompt_number": 97
    },
    {
     "cell_type": "code",
     "collapsed": false,
     "input": [
      "Xt_train, Xt_test, yt_train, yt_test = train_test(good_bad_df.content, good_bad_df.cls)"
     ],
     "language": "python",
     "metadata": {},
     "outputs": [],
     "prompt_number": 99
    },
    {
     "cell_type": "code",
     "collapsed": false,
     "input": [
      "text_gnb.fit(Xt_train, yt_train)"
     ],
     "language": "python",
     "metadata": {},
     "outputs": [
      {
       "metadata": {},
       "output_type": "pyout",
       "prompt_number": 100,
       "text": [
        "Pipeline(steps=[('vect', CountVectorizer(analyzer=u'word', binary=False, charset=None,\n",
        "        charset_error=None, decode_error=u'strict',\n",
        "        dtype=<type 'numpy.int64'>, encoding=u'utf-8', input=u'content',\n",
        "        lowercase=True, max_df=1.0, max_features=None, min_df=1,\n",
        "        ngram_range=(1, 4), prep...alse,\n",
        "         use_idf=False)), ('gnb', MultinomialNB(alpha=1.0, class_prior=None, fit_prior=True))])"
       ]
      }
     ],
     "prompt_number": 100
    },
    {
     "cell_type": "code",
     "collapsed": false,
     "input": [
      "text_gnb.predict_proba([Xt_test[1]])[0][0]"
     ],
     "language": "python",
     "metadata": {},
     "outputs": [
      {
       "metadata": {},
       "output_type": "pyout",
       "prompt_number": 120,
       "text": [
        "0.19237806832069598"
       ]
      }
     ],
     "prompt_number": 120
    },
    {
     "cell_type": "code",
     "collapsed": false,
     "input": [
      "pred2 = text_gnb.predict(Xt_test)"
     ],
     "language": "python",
     "metadata": {},
     "outputs": [],
     "prompt_number": 106
    },
    {
     "cell_type": "code",
     "collapsed": false,
     "input": [
      "metrics.confusion_matrix(pred2, yt_test)"
     ],
     "language": "python",
     "metadata": {},
     "outputs": [
      {
       "metadata": {},
       "output_type": "pyout",
       "prompt_number": 107,
       "text": [
        "array([[541, 318],\n",
        "       [241, 479]])"
       ]
      }
     ],
     "prompt_number": 107
    },
    {
     "cell_type": "code",
     "collapsed": false,
     "input": [
      "np.mean(pred2 == yt_test)"
     ],
     "language": "python",
     "metadata": {},
     "outputs": [
      {
       "metadata": {},
       "output_type": "pyout",
       "prompt_number": 108,
       "text": [
        "0.64597846738442055"
       ]
      }
     ],
     "prompt_number": 108
    },
    {
     "cell_type": "code",
     "collapsed": false,
     "input": [
      "Xt_test[3]"
     ],
     "language": "python",
     "metadata": {},
     "outputs": [
      {
       "metadata": {},
       "output_type": "pyout",
       "prompt_number": 125,
       "text": [
        "'What about ShitRedditSays? Toxic community, doxxes, brigades and does death threats, still around.'"
       ]
      }
     ],
     "prompt_number": 125
    },
    {
     "cell_type": "code",
     "collapsed": false,
     "input": [
      "print metrics.classification_report(pred2, yt_test)"
     ],
     "language": "python",
     "metadata": {},
     "outputs": [
      {
       "output_type": "stream",
       "stream": "stdout",
       "text": [
        "             precision    recall  f1-score   support\n",
        "\n",
        "        bad       0.68      0.64      0.66       833\n",
        "       good       0.62      0.66      0.64       746\n",
        "\n",
        "avg / total       0.65      0.65      0.65      1579\n",
        "\n"
       ]
      }
     ],
     "prompt_number": 323
    },
    {
     "cell_type": "code",
     "collapsed": false,
     "input": [
      "text_lr = Pipeline([('vect', CountVectorizer(ngram_range = (1,4), stop_words='english')),\n",
      "                     ('tfidf', TfidfTransformer()),\n",
      "                     ('lr', LogisticRegression()),\n",
      "                     ])"
     ],
     "language": "python",
     "metadata": {},
     "outputs": [],
     "prompt_number": 324
    },
    {
     "cell_type": "code",
     "collapsed": false,
     "input": [
      "from nltk import FreqDist"
     ],
     "language": "python",
     "metadata": {},
     "outputs": [],
     "prompt_number": 331
    },
    {
     "cell_type": "code",
     "collapsed": false,
     "input": [
      "fdist_bad = FreqDist(zip(*[list(TextBlob(c).tokenize()) for c in bad_df.content])[0])"
     ],
     "language": "python",
     "metadata": {},
     "outputs": [],
     "prompt_number": 346
    },
    {
     "cell_type": "code",
     "collapsed": false,
     "input": [
      "fdist_bad.most_common(50)"
     ],
     "language": "python",
     "metadata": {},
     "outputs": [
      {
       "metadata": {},
       "output_type": "pyout",
       "prompt_number": 347,
       "text": [
        "[('I', 211),\n",
        " ('[', 104),\n",
        " ('&', 99),\n",
        " ('It', 70),\n",
        " ('You', 67),\n",
        " ('The', 64),\n",
        " ('So', 40),\n",
        " ('This', 35),\n",
        " ('That', 34),\n",
        " ('They', 30),\n",
        " ('No', 30),\n",
        " ('What', 29),\n",
        " ('Yeah', 24),\n",
        " ('Yes', 21),\n",
        " ('And', 21),\n",
        " ('If', 21),\n",
        " ('Oh', 17),\n",
        " ('Not', 16),\n",
        " ('Why', 16),\n",
        " ('There', 15),\n",
        " ('Do', 15),\n",
        " ('Well', 15),\n",
        " ('``', 14),\n",
        " ('A', 12),\n",
        " ('How', 12),\n",
        " ('Are', 12),\n",
        " ('But', 12),\n",
        " ('Wow', 11),\n",
        " ('People', 11),\n",
        " ('We', 11),\n",
        " ('Did', 10),\n",
        " ('Just', 9),\n",
        " ('Because', 9),\n",
        " ('Maybe', 9),\n",
        " ('Or', 9),\n",
        " ('Actually', 8),\n",
        " ('Can', 8),\n",
        " ('i', 8),\n",
        " ('To', 8),\n",
        " ('Your', 7),\n",
        " ('All', 7),\n",
        " ('Then', 7),\n",
        " ('Would', 7),\n",
        " ('Except', 7),\n",
        " ('you', 7),\n",
        " ('Only', 6),\n",
        " ('Wait', 6),\n",
        " ('and', 6),\n",
        " ('Good', 6),\n",
        " ('Reddit', 6)]"
       ]
      }
     ],
     "prompt_number": 347
    },
    {
     "cell_type": "code",
     "collapsed": false,
     "input": [
      "fdist_good = FreqDist(zip(*[list(TextBlob(c).tokenize()) for c in good_df.content])[0])"
     ],
     "language": "python",
     "metadata": {},
     "outputs": [],
     "prompt_number": 348
    },
    {
     "cell_type": "code",
     "collapsed": false,
     "input": [
      "fdist_good.most_common(50)"
     ],
     "language": "python",
     "metadata": {},
     "outputs": [
      {
       "metadata": {},
       "output_type": "pyout",
       "prompt_number": 350,
       "text": [
        "[('I', 241),\n",
        " ('&', 96),\n",
        " ('The', 94),\n",
        " ('It', 74),\n",
        " ('This', 56),\n",
        " ('That', 55),\n",
        " ('You', 52),\n",
        " ('[', 40),\n",
        " ('If', 34),\n",
        " ('What', 30),\n",
        " ('Yeah', 29),\n",
        " ('``', 27),\n",
        " ('No', 24),\n",
        " ('And', 23),\n",
        " ('As', 23),\n",
        " ('They', 21),\n",
        " ('Not', 19),\n",
        " ('But', 18),\n",
        " ('Well', 18),\n",
        " ('My', 17),\n",
        " ('For', 17),\n",
        " ('There', 16),\n",
        " ('Why', 15),\n",
        " ('Because', 15),\n",
        " ('How', 15),\n",
        " ('We', 14),\n",
        " ('In', 14),\n",
        " ('So', 13),\n",
        " ('A', 12),\n",
        " ('Is', 11),\n",
        " ('He', 11),\n",
        " ('Wow', 9),\n",
        " ('Do', 9),\n",
        " ('Yes', 9),\n",
        " ('Here', 8),\n",
        " ('Oh', 8),\n",
        " ('Actually', 7),\n",
        " ('When', 7),\n",
        " ('Thanks', 7),\n",
        " ('Haha', 7),\n",
        " ('People', 7),\n",
        " ('ITT', 7),\n",
        " ('Can', 7),\n",
        " ('Reddit', 6),\n",
        " ('Also', 6),\n",
        " ('Wait', 6),\n",
        " ('Except', 6),\n",
        " ('#', 6),\n",
        " ('Pretty', 6),\n",
        " ('http', 6)]"
       ]
      }
     ],
     "prompt_number": 350
    },
    {
     "cell_type": "code",
     "collapsed": false,
     "input": [
      "fdist_good < fdist_bad"
     ],
     "language": "python",
     "metadata": {},
     "outputs": [
      {
       "metadata": {},
       "output_type": "pyout",
       "prompt_number": 353,
       "text": [
        "False"
       ]
      }
     ],
     "prompt_number": 353
    },
    {
     "cell_type": "code",
     "collapsed": false,
     "input": [
      "for key in fdist_bad:"
     ],
     "language": "python",
     "metadata": {},
     "outputs": [
      {
       "metadata": {},
       "output_type": "pyout",
       "prompt_number": 356,
       "text": [
        "1966"
       ]
      }
     ],
     "prompt_number": 356
    },
    {
     "cell_type": "code",
     "collapsed": false,
     "input": [
      "text_mnb = Pipeline([('vect', CountVectorizer(ngram_range = (1,4), stop_words='english', max_features=1000)),\n",
      "                     ('tfidf', TfidfTransformer(use_idf=False)),\n",
      "                     ('mnb', MultinomialNB()),\n",
      "                     ])"
     ],
     "language": "python",
     "metadata": {},
     "outputs": [],
     "prompt_number": 364
    },
    {
     "cell_type": "code",
     "collapsed": false,
     "input": [],
     "language": "python",
     "metadata": {},
     "outputs": [],
     "prompt_number": 57
    },
    {
     "cell_type": "code",
     "collapsed": false,
     "input": [],
     "language": "python",
     "metadata": {},
     "outputs": [],
     "prompt_number": 58
    },
    {
     "cell_type": "code",
     "collapsed": false,
     "input": [],
     "language": "python",
     "metadata": {},
     "outputs": [],
     "prompt_number": 59
    },
    {
     "cell_type": "code",
     "collapsed": false,
     "input": [],
     "language": "python",
     "metadata": {},
     "outputs": [],
     "prompt_number": 60
    },
    {
     "cell_type": "code",
     "collapsed": false,
     "input": [
      "cv = CountVectorizer(ngram_range = (1,4), stop_words='english', max_features=1000)"
     ],
     "language": "python",
     "metadata": {},
     "outputs": [],
     "prompt_number": 445
    },
    {
     "cell_type": "code",
     "collapsed": false,
     "input": [
      "sparse = cv.fit_transform(Xt_train)"
     ],
     "language": "python",
     "metadata": {},
     "outputs": [],
     "prompt_number": 453
    },
    {
     "cell_type": "code",
     "collapsed": false,
     "input": [
      "tfidf = TfidfTransformer(use_idf=False)"
     ],
     "language": "python",
     "metadata": {},
     "outputs": [],
     "prompt_number": 456
    },
    {
     "cell_type": "code",
     "collapsed": false,
     "input": [
      "sparse2 = tfidf.fit_transform(sparse)"
     ],
     "language": "python",
     "metadata": {},
     "outputs": [],
     "prompt_number": 457
    },
    {
     "cell_type": "code",
     "collapsed": false,
     "input": [
      "mnb = MultinomialNB()"
     ],
     "language": "python",
     "metadata": {},
     "outputs": [],
     "prompt_number": 458
    },
    {
     "cell_type": "code",
     "collapsed": false,
     "input": [
      "mnb.fit(sparse2, yt_train)"
     ],
     "language": "python",
     "metadata": {},
     "outputs": [
      {
       "metadata": {},
       "output_type": "pyout",
       "prompt_number": 460,
       "text": [
        "MultinomialNB(alpha=1.0, class_prior=None, fit_prior=True)"
       ]
      }
     ],
     "prompt_number": 460
    },
    {
     "cell_type": "code",
     "collapsed": false,
     "input": [
      "pred = mnb.predict(tfidf.fit_transform(cv.fit_transform(Xt_test)))"
     ],
     "language": "python",
     "metadata": {},
     "outputs": [],
     "prompt_number": 465
    },
    {
     "cell_type": "code",
     "collapsed": false,
     "input": [
      "np.mean(pred == yt_test)"
     ],
     "language": "python",
     "metadata": {},
     "outputs": [
      {
       "metadata": {},
       "output_type": "pyout",
       "prompt_number": 466,
       "text": [
        "0.52374920835972139"
       ]
      }
     ],
     "prompt_number": 466
    },
    {
     "cell_type": "code",
     "collapsed": false,
     "input": [],
     "language": "python",
     "metadata": {},
     "outputs": []
    }
   ],
   "metadata": {}
  }
 ]
}