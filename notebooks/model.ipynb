{
 "metadata": {
  "name": ""
 },
 "nbformat": 3,
 "nbformat_minor": 0,
 "worksheets": [
  {
   "cells": [
    {
     "cell_type": "code",
     "collapsed": false,
     "input": [
      "import numpy as np\n",
      "import pandas as pd\n",
      "from sqlalchemy import MetaData, create_engine\n",
      "from sklearn import linear_model, cross_validation"
     ],
     "language": "python",
     "metadata": {},
     "outputs": [
      {
       "output_type": "stream",
       "stream": "stderr",
       "text": [
        "/home/gautam/anaconda/lib/python2.7/site-packages/pytz/__init__.py:35: UserWarning: Module argparse was already imported from /home/gautam/anaconda/lib/python2.7/argparse.pyc, but /home/gautam/anaconda/lib/python2.7/site-packages is being added to sys.path\n",
        "  from pkg_resources import resource_stream\n"
       ]
      }
     ],
     "prompt_number": 1
    },
    {
     "cell_type": "code",
     "collapsed": false,
     "input": [
      "engine = create_engine('mysql+pymysql://gautam@localhost/reddit_comments_submissions')"
     ],
     "language": "python",
     "metadata": {},
     "outputs": [],
     "prompt_number": 2
    },
    {
     "cell_type": "code",
     "collapsed": false,
     "input": [
      "comments_df = pd.read_sql(sql=\"select * from comm_subm limit 10000\", con=engine)"
     ],
     "language": "python",
     "metadata": {},
     "outputs": [],
     "prompt_number": 3
    },
    {
     "cell_type": "code",
     "collapsed": false,
     "input": [
      "comments_df['age'] = comments_df.created - comments_df.subm_created\n",
      "comments_df['comment_length'] = comments_df.content.apply(len)"
     ],
     "language": "python",
     "metadata": {},
     "outputs": [],
     "prompt_number": 4
    },
    {
     "cell_type": "code",
     "collapsed": false,
     "input": [
      "model = linear_model.LinearRegression()"
     ],
     "language": "python",
     "metadata": {},
     "outputs": [],
     "prompt_number": 5
    },
    {
     "cell_type": "code",
     "collapsed": false,
     "input": [
      "features = ['subm_score', 'subm_num_comments', 'age', 'comment_length']"
     ],
     "language": "python",
     "metadata": {},
     "outputs": [],
     "prompt_number": 6
    },
    {
     "cell_type": "code",
     "collapsed": false,
     "input": [
      "data_set = comments_df[features]"
     ],
     "language": "python",
     "metadata": {},
     "outputs": [],
     "prompt_number": 7
    },
    {
     "cell_type": "code",
     "collapsed": false,
     "input": [
      "X_train, X_test, y_train, y_test = cross_validation.train_test_split(comments_df[features], comments_df.score, test_size=0.4, random_state=0)"
     ],
     "language": "python",
     "metadata": {},
     "outputs": [],
     "prompt_number": 8
    },
    {
     "cell_type": "code",
     "collapsed": false,
     "input": [
      "model.fit(X=X_train, y=y_train)"
     ],
     "language": "python",
     "metadata": {},
     "outputs": [
      {
       "metadata": {},
       "output_type": "pyout",
       "prompt_number": 9,
       "text": [
        "LinearRegression(copy_X=True, fit_intercept=True, normalize=False)"
       ]
      }
     ],
     "prompt_number": 9
    },
    {
     "cell_type": "code",
     "collapsed": false,
     "input": [
      "model.score(X_test, y_test)"
     ],
     "language": "python",
     "metadata": {},
     "outputs": [
      {
       "metadata": {},
       "output_type": "pyout",
       "prompt_number": 10,
       "text": [
        "0.0066174012664218518"
       ]
      }
     ],
     "prompt_number": 10
    },
    {
     "cell_type": "code",
     "collapsed": false,
     "input": [
      "model.predict([10, 10, 1000, 10])"
     ],
     "language": "python",
     "metadata": {},
     "outputs": [
      {
       "metadata": {},
       "output_type": "pyout",
       "prompt_number": 11,
       "text": [
        "4.7807382899902313"
       ]
      }
     ],
     "prompt_number": 11
    },
    {
     "cell_type": "code",
     "collapsed": false,
     "input": [
      "model.coef_"
     ],
     "language": "python",
     "metadata": {},
     "outputs": [
      {
       "metadata": {},
       "output_type": "pyout",
       "prompt_number": 12,
       "text": [
        "array([  2.78734343e-03,  -3.38759774e-03,  -5.30122355e-05,\n",
        "         5.63242478e-03])"
       ]
      }
     ],
     "prompt_number": 12
    },
    {
     "cell_type": "code",
     "collapsed": false,
     "input": [
      "pred = model.predict(X_test)"
     ],
     "language": "python",
     "metadata": {},
     "outputs": [],
     "prompt_number": 14
    },
    {
     "cell_type": "code",
     "collapsed": false,
     "input": [
      "pred_class = [-1 if p < -2 else 1 for p in pred]"
     ],
     "language": "python",
     "metadata": {},
     "outputs": [],
     "prompt_number": 16
    },
    {
     "cell_type": "code",
     "collapsed": false,
     "input": [
      "y_test_class = [-1 if p < -2 else 1 for p in y_test]"
     ],
     "language": "python",
     "metadata": {},
     "outputs": [],
     "prompt_number": 21
    },
    {
     "cell_type": "code",
     "collapsed": false,
     "input": [
      "from sklearn import metrics"
     ],
     "language": "python",
     "metadata": {},
     "outputs": [],
     "prompt_number": 23
    },
    {
     "cell_type": "code",
     "collapsed": false,
     "input": [
      "metrics.confusion_matrix(pred_class, y_test_class)"
     ],
     "language": "python",
     "metadata": {},
     "outputs": [
      {
       "output_type": "stream",
       "stream": "stderr",
       "text": [
        "/home/gautam/anaconda/lib/python2.7/site-packages/numpy/core/fromnumeric.py:2499: VisibleDeprecationWarning: `rank` is deprecated; use the `ndim` attribute or function instead. To find the rank of a matrix see `numpy.linalg.matrix_rank`.\n",
        "  VisibleDeprecationWarning)\n"
       ]
      },
      {
       "metadata": {},
       "output_type": "pyout",
       "prompt_number": 24,
       "text": [
        "array([[   0,  115],\n",
        "       [ 149, 3736]])"
       ]
      }
     ],
     "prompt_number": 24
    },
    {
     "cell_type": "code",
     "collapsed": false,
     "input": [
      "from sklearn.metrics import mean_squared_error"
     ],
     "language": "python",
     "metadata": {},
     "outputs": [],
     "prompt_number": 14
    },
    {
     "cell_type": "code",
     "collapsed": false,
     "input": [
      "mean_squared_error(y_test, model.predict(X_test))"
     ],
     "language": "python",
     "metadata": {},
     "outputs": [
      {
       "metadata": {},
       "output_type": "pyout",
       "prompt_number": 18,
       "text": [
        "4674.0123184658187"
       ]
      }
     ],
     "prompt_number": 18
    },
    {
     "cell_type": "code",
     "collapsed": false,
     "input": [
      "pd.DataFrame([y_test, model.predict(X_test)])"
     ],
     "language": "python",
     "metadata": {},
     "outputs": [
      {
       "html": [
        "<div style=\"max-height:1000px;max-width:1500px;overflow:auto;\">\n",
        "<table border=\"1\" class=\"dataframe\">\n",
        "  <thead>\n",
        "    <tr style=\"text-align: right;\">\n",
        "      <th></th>\n",
        "      <th>0</th>\n",
        "      <th>1</th>\n",
        "      <th>2</th>\n",
        "      <th>3</th>\n",
        "      <th>4</th>\n",
        "      <th>5</th>\n",
        "      <th>6</th>\n",
        "      <th>7</th>\n",
        "      <th>8</th>\n",
        "      <th>9</th>\n",
        "      <th>...</th>\n",
        "      <th>3990</th>\n",
        "      <th>3991</th>\n",
        "      <th>3992</th>\n",
        "      <th>3993</th>\n",
        "      <th>3994</th>\n",
        "      <th>3995</th>\n",
        "      <th>3996</th>\n",
        "      <th>3997</th>\n",
        "      <th>3998</th>\n",
        "      <th>3999</th>\n",
        "    </tr>\n",
        "  </thead>\n",
        "  <tbody>\n",
        "    <tr>\n",
        "      <th>0</th>\n",
        "      <td> 5.00000</td>\n",
        "      <td>  0.000000</td>\n",
        "      <td> 111.00000</td>\n",
        "      <td> 1.000000</td>\n",
        "      <td> 3.000000</td>\n",
        "      <td> 1.000000</td>\n",
        "      <td> 5.000000</td>\n",
        "      <td> 2.000000</td>\n",
        "      <td>  0.000000</td>\n",
        "      <td> -2.000000</td>\n",
        "      <td>...</td>\n",
        "      <td> 1.00000</td>\n",
        "      <td> 3.000000</td>\n",
        "      <td>-9.000000</td>\n",
        "      <td>-5.000000</td>\n",
        "      <td> 24.000000</td>\n",
        "      <td> 2.000000</td>\n",
        "      <td> 1.000000</td>\n",
        "      <td>  2.000000</td>\n",
        "      <td> 1.000000</td>\n",
        "      <td>  1.00000</td>\n",
        "    </tr>\n",
        "    <tr>\n",
        "      <th>1</th>\n",
        "      <td> 0.35506</td>\n",
        "      <td> 13.716474</td>\n",
        "      <td>  13.52021</td>\n",
        "      <td> 7.215158</td>\n",
        "      <td> 3.943589</td>\n",
        "      <td> 2.743354</td>\n",
        "      <td> 7.838519</td>\n",
        "      <td> 9.076712</td>\n",
        "      <td> 10.412365</td>\n",
        "      <td> 14.058553</td>\n",
        "      <td>...</td>\n",
        "      <td>-3.05339</td>\n",
        "      <td> 7.101086</td>\n",
        "      <td> 6.805673</td>\n",
        "      <td> 5.327667</td>\n",
        "      <td> 10.354518</td>\n",
        "      <td> 2.833847</td>\n",
        "      <td> 4.868819</td>\n",
        "      <td> 15.089024</td>\n",
        "      <td> 5.919626</td>\n",
        "      <td> 11.30934</td>\n",
        "    </tr>\n",
        "  </tbody>\n",
        "</table>\n",
        "<p>2 rows \u00d7 4000 columns</p>\n",
        "</div>"
       ],
       "metadata": {},
       "output_type": "pyout",
       "prompt_number": 20,
       "text": [
        "      0          1          2         3         4         5         6     \\\n",
        "0  5.00000   0.000000  111.00000  1.000000  3.000000  1.000000  5.000000   \n",
        "1  0.35506  13.716474   13.52021  7.215158  3.943589  2.743354  7.838519   \n",
        "\n",
        "       7          8          9       ...        3990      3991      3992  \\\n",
        "0  2.000000   0.000000  -2.000000    ...     1.00000  3.000000 -9.000000   \n",
        "1  9.076712  10.412365  14.058553    ...    -3.05339  7.101086  6.805673   \n",
        "\n",
        "       3993       3994      3995      3996       3997      3998      3999  \n",
        "0 -5.000000  24.000000  2.000000  1.000000   2.000000  1.000000   1.00000  \n",
        "1  5.327667  10.354518  2.833847  4.868819  15.089024  5.919626  11.30934  \n",
        "\n",
        "[2 rows x 4000 columns]"
       ]
      }
     ],
     "prompt_number": 20
    },
    {
     "cell_type": "code",
     "collapsed": false,
     "input": [],
     "language": "python",
     "metadata": {},
     "outputs": []
    }
   ],
   "metadata": {}
  }
 ]
}