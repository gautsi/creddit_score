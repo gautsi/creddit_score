{
 "metadata": {
  "name": ""
 },
 "nbformat": 3,
 "nbformat_minor": 0,
 "worksheets": [
  {
   "cells": [
    {
     "cell_type": "code",
     "collapsed": false,
     "input": [
      "%matplotlib inline\n",
      "import matplotlib.pyplot as plt\n",
      "import matplotlib.colors as cl\n",
      "import matplotlib.patches as mpatches\n",
      "import matplotlib.cm as cm"
     ],
     "language": "python",
     "metadata": {},
     "outputs": [],
     "prompt_number": 1
    },
    {
     "cell_type": "code",
     "collapsed": false,
     "input": [
      "import creddit_score as cs\n",
      "import pandas as pd\n",
      "import numpy as np\n",
      "from sklearn import cross_validation\n",
      "from sklearn.pipeline import Pipeline\n",
      "from sklearn.feature_extraction.text import CountVectorizer\n",
      "from sklearn.feature_extraction.text import TfidfTransformer\n",
      "from sklearn.naive_bayes import MultinomialNB\n",
      "from sklearn import metrics\n",
      "from scipy import interp\n",
      "from sklearn.metrics import roc_curve, auc\n",
      "from sklearn.cross_validation import StratifiedKFold\n",
      "from textblob import TextBlob\n",
      "import string"
     ],
     "language": "python",
     "metadata": {},
     "outputs": [
      {
       "output_type": "stream",
       "stream": "stderr",
       "text": [
        "/home/gautam/anaconda/lib/python2.7/site-packages/pytz/__init__.py:35: UserWarning: Module argparse was already imported from /home/gautam/anaconda/lib/python2.7/argparse.pyc, but /home/gautam/anaconda/lib/python2.7/site-packages is being added to sys.path\n",
        "  from pkg_resources import resource_stream\n",
        "/home/gautam/anaconda/lib/python2.7/site-packages/scipy/sparse/csgraph/__init__.py:148: RuntimeWarning: numpy.ufunc size changed, may indicate binary incompatibility\n",
        "  from ._shortest_path import shortest_path, floyd_warshall, dijkstra,\\\n"
       ]
      },
      {
       "output_type": "stream",
       "stream": "stderr",
       "text": [
        "/home/gautam/anaconda/lib/python2.7/site-packages/scipy/sparse/csgraph/_validation.py:5: RuntimeWarning: numpy.ufunc size changed, may indicate binary incompatibility\n",
        "  from ._tools import csgraph_to_dense, csgraph_from_dense,\\\n",
        "/home/gautam/anaconda/lib/python2.7/site-packages/scipy/sparse/csgraph/__init__.py:150: RuntimeWarning: numpy.ufunc size changed, may indicate binary incompatibility\n",
        "  from ._traversal import breadth_first_order, depth_first_order, \\\n"
       ]
      },
      {
       "output_type": "stream",
       "stream": "stderr",
       "text": [
        "/home/gautam/anaconda/lib/python2.7/site-packages/scipy/sparse/csgraph/__init__.py:152: RuntimeWarning: numpy.ufunc size changed, may indicate binary incompatibility\n",
        "  from ._min_spanning_tree import minimum_spanning_tree\n",
        "/home/gautam/anaconda/lib/python2.7/site-packages/scipy/special/__init__.py:531: RuntimeWarning: numpy.ufunc size changed, may indicate binary incompatibility\n",
        "  from ._ufuncs import *\n"
       ]
      },
      {
       "output_type": "stream",
       "stream": "stderr",
       "text": [
        "/home/gautam/anaconda/lib/python2.7/site-packages/scipy/spatial/__init__.py:90: RuntimeWarning: numpy.ufunc size changed, may indicate binary incompatibility\n",
        "  from .ckdtree import *\n",
        "/home/gautam/anaconda/lib/python2.7/site-packages/scipy/spatial/__init__.py:91: RuntimeWarning: numpy.ufunc size changed, may indicate binary incompatibility\n",
        "  from .qhull import *\n"
       ]
      },
      {
       "output_type": "stream",
       "stream": "stderr",
       "text": [
        "/home/gautam/anaconda/lib/python2.7/site-packages/scipy/stats/distributions.py:35: RuntimeWarning: numpy.ufunc size changed, may indicate binary incompatibility\n",
        "  from . import vonmises_cython\n",
        "/home/gautam/anaconda/lib/python2.7/site-packages/scipy/stats/stats.py:252: RuntimeWarning: numpy.ufunc size changed, may indicate binary incompatibility\n",
        "  from ._rank import rankdata, tiecorrect\n"
       ]
      },
      {
       "output_type": "stream",
       "stream": "stderr",
       "text": [
        "/home/gautam/anaconda/lib/python2.7/site-packages/scipy/io/matlab/mio4.py:18: RuntimeWarning: numpy.ufunc size changed, may indicate binary incompatibility\n",
        "  from .mio_utils import squeeze_element, chars_to_strings\n",
        "/home/gautam/anaconda/lib/python2.7/site-packages/scipy/io/matlab/mio5.py:98: RuntimeWarning: numpy.ufunc size changed, may indicate binary incompatibility\n",
        "  from .mio5_utils import VarReader5\n"
       ]
      }
     ],
     "prompt_number": 2
    },
    {
     "cell_type": "code",
     "collapsed": false,
     "input": [
      "classes = {'bad' : 0, 'neutral' : 1, 'good' : 2}\n",
      "colors = ['#d95f02', 'b', '#756bb1']\n",
      "colors2 = list(sns.color_palette())\n",
      "lcm = cl.ListedColormap(colors)\n",
      "lcm2 = cl.ListedColormap(colors2)\n",
      "#colors:\n",
      "#light orange fc8d62\n",
      "#violet 8da0cb\n",
      "#dark orange d95f02\n",
      "#dark green 1b9e77\n",
      "#dark purple 756bb1"
     ],
     "language": "python",
     "metadata": {},
     "outputs": [],
     "prompt_number": 78
    },
    {
     "cell_type": "code",
     "collapsed": false,
     "input": [
      "low_thresh = 0\n",
      "high_thresh = 15"
     ],
     "language": "python",
     "metadata": {},
     "outputs": [],
     "prompt_number": 4
    },
    {
     "cell_type": "code",
     "collapsed": false,
     "input": [
      "slang = pd.read_csv(\"internet_slang.csv\")\n",
      "slang_terms = [i.lower() for i in slang.term]\n",
      "\n",
      "swear_words = open(\"swear_words.txt\", 'r')\n",
      "swear_words = swear_words.readlines()\n",
      "swears = [i.split(':')[0] for i in swear_words[1:-1]]\n",
      "swears2 = [i[1:-1].lower() if i[0] == '\"' else i.lower() for i in swears]\n",
      "\n",
      "def normalize(X):\n",
      "    mean = X.mean()\n",
      "    range_X = X.max() - X.min()\n",
      "    return (X - mean)/float(range_X), mean, range_X\n",
      "\n",
      "def denorm(norm, mean, range_X):\n",
      "    return mean + norm*range_X\n",
      "\n",
      "def cube_root(x):\n",
      "    if x > 0:\n",
      "        return x**(1.0/3.0)\n",
      "    else:\n",
      "        return -1*(-1*x)**(1.0/3.0)\n",
      "    \n",
      "def add_features(df):\n",
      "    df['age'] = df.created - df.subm_created\n",
      "    df['age_min'] = df.age/60.0\n",
      "    df['age_min_log'] = np.log10(df.age_min)\n",
      "    df['time_since_post'] = df.timestamp - df.created\n",
      "    df['time_since_post_min'] = df.time_since_post/60.0\n",
      "    df['time_since_post_min_log'] = np.log10(df.time_since_post_min)\n",
      "    #df['color'] = df.subreddit.apply(lambda x : cs.subreddits.index(x))\n",
      "    df['comment_length'] = df.content.apply(len)\n",
      "    df['comment_num_words'] = df.content.apply(lambda x : len(x.split()))\n",
      "    df['comment_length_log'] = np.log10(df.comment_length)\n",
      "    df['comment_num_words_log'] = np.log10(df.comment_num_words)\n",
      "    df['subm_num_comments_log'] = np.log10(df.subm_num_comments)\n",
      "    #df['poor'] = df.score.apply(lambda x : -1 if x < thresh else 1)\n",
      "    df['cube_score'] = df.score.apply(lambda x : cube_root(x))\n",
      "    df['cube_subm_score'] = df.subm_score.apply(lambda x : cube_root(x))\n",
      "    df['cls'] = df.score.apply(lambda x : 'bad' if x < 0 else ('good' if x > 15 else 'neutral'))\n",
      "    df['cls_color'] = df.cls.apply(lambda x: classes[x])\n",
      "    #df['polarity'] = df.content.apply(lambda x : TextBlob(x).polarity)\n",
      "    #df['subjectivity'] = df.content.apply(lambda x : TextBlob(x).subjectivity)\n",
      "    df['num_capital'] = df.content.apply(lambda x : sum([1 for i in x if i.isupper()]))\n",
      "    df['num_capital_log'] = np.log10(df.num_capital)\n",
      "    df['percent_capital'] = df.num_capital/df.comment_length\n",
      "    df['percent_capital_log'] = df.num_capital_log - df.comment_length_log\n",
      "    df['percent_capital_root'] = np.sqrt(df.percent_capital)\n",
      "    df['num_slang'] = df.content.apply(lambda x : sum([1 for w in TextBlob(x).tokenize() if w.lower() in slang_terms]))\n",
      "    df['num_slang_log'] = np.log10(df.num_slang)\n",
      "    df['percent_slang'] = df.num_slang/df.comment_num_words\n",
      "    df['percent_slang_log'] = df.num_slang_log - df.comment_num_words_log\n",
      "    df['percent_slang_root'] = np.sqrt(df.percent_slang)\n",
      "    df['num_punc'] = df.content.apply(lambda x : sum([1 for i in x if i in string.punctuation]))\n",
      "    df['num_punc_log'] = np.log10(df.num_punc)\n",
      "    df['percent_punc'] = df.num_punc/df.comment_length\n",
      "    df['percent_punc_log'] = df.num_punc_log - df.comment_length_log\n",
      "    df['num_swears'] = df.content.apply(lambda x : int(sum([1 for w in TextBlob(x).tokenize() if w.lower() in swears2])))\n",
      "    df['num_swears_log'] = np.log10(df.num_swears)\n",
      "    df['percent_swears'] = df.num_swears/df.comment_num_words\n",
      "    df['percent_swears_log'] = df.num_swears_log - df.comment_num_words_log\n",
      "    df['percent_swears_root'] = np.sqrt(df.percent_swears)\n",
      "    df['avg_word_length'] = df.comment_length/df.comment_num_words\n",
      "    df['avg_word_length_log'] = df.comment_length_log - df.comment_num_words_log\n",
      "\n",
      "def scatter(x, y, c='b', cmap=None, s=10, alpha=0.2, edgecolor='', xlabel=None, ylabel=None, title=None, pic_title=None, loc=0):\n",
      "    plt.clf()\n",
      "    plt.scatter(x, y, c=c, cmap=cmap, s=s, alpha=alpha, edgecolor='')\n",
      "    if title:\n",
      "        plt.title(title)\n",
      "    if xlabel:\n",
      "        plt.xlabel(xlabel)\n",
      "    if ylabel:\n",
      "        plt.ylabel(ylabel)\n",
      "    \n",
      "    #make_legend\n",
      "    for cls in classes:\n",
      "        if cls == 'good' or cls == 'bad':\n",
      "            plt.scatter([],[],c=colors[classes[cls]],label=cls)\n",
      "    plt.legend(fontsize=6, loc=loc)\n",
      "    \n",
      "    if pic_title:\n",
      "        plt.savefig(pic_title, dpi=300)\n",
      "        \n",
      "def scatter_df(df, xcol, ycol, c=None, cmap=None, s=10, alpha=0.2, edgecolor='', xlabel=None, ylabel=None, title=None, pic_title=None, loc=0):\n",
      "        if c:\n",
      "            c=df[c]\n",
      "            cmap = lcm\n",
      "        else:\n",
      "            c='b'\n",
      "        scatter(x=df[xcol], y=df[ycol], c=c, cmap=cmap, s=s, alpha=alpha, edgecolor=edgecolor, xlabel=xlabel, ylabel=ylabel, title=title, pic_title=pic_title, loc=loc)\n",
      " "
     ],
     "language": "python",
     "metadata": {},
     "outputs": [],
     "prompt_number": 19
    },
    {
     "cell_type": "code",
     "collapsed": false,
     "input": [
      "dib_df = pd.read_sql(sql=\"select *\\\n",
      "                     from comm_subm\\\n",
      "                     where subreddit='funny'\\\n",
      "                     limit 10000\",                    \n",
      "                     con=cs.engine)"
     ],
     "language": "python",
     "metadata": {},
     "outputs": [],
     "prompt_number": 6
    },
    {
     "cell_type": "code",
     "collapsed": false,
     "input": [
      "comments_most_recent = dib_df.groupby(dib_df.comment_id).last()"
     ],
     "language": "python",
     "metadata": {},
     "outputs": [],
     "prompt_number": 7
    },
    {
     "cell_type": "code",
     "collapsed": false,
     "input": [
      "len(comments_most_recent)"
     ],
     "language": "python",
     "metadata": {},
     "outputs": [
      {
       "metadata": {},
       "output_type": "pyout",
       "prompt_number": 8,
       "text": [
        "8940"
       ]
      }
     ],
     "prompt_number": 8
    },
    {
     "cell_type": "code",
     "collapsed": false,
     "input": [
      "add_features(comments_most_recent)"
     ],
     "language": "python",
     "metadata": {},
     "outputs": [],
     "prompt_number": 9
    },
    {
     "cell_type": "code",
     "collapsed": false,
     "input": [
      "good_df = comments_most_recent[comments_most_recent.cls == 'good']\n",
      "bad_df = comments_most_recent[comments_most_recent.cls == 'bad']\n",
      "neutral_df = comments_most_recent[(comments_most_recent.subm_score > 125) & \n",
      "                               (comments_most_recent.age_min > 100) &\n",
      "                               (comments_most_recent.age_min < 1000) &\n",
      "                               (comments_most_recent.comment_num_words < 300) &\n",
      "                               (comments_most_recent.cls == 'neutral')]\n",
      "comments_df = pd.concat([good_df, neutral_df, bad_df])\n",
      "good_bad_df = pd.concat([good_df, bad_df])\n",
      "good_bad_df_shuffle = good_bad_df.reindex(np.random.permutation(good_bad_df.index))"
     ],
     "language": "python",
     "metadata": {},
     "outputs": [],
     "prompt_number": 10
    },
    {
     "cell_type": "code",
     "collapsed": false,
     "input": [
      "len(neutral_df), len(good_df), len(bad_df)"
     ],
     "language": "python",
     "metadata": {},
     "outputs": [
      {
       "metadata": {},
       "output_type": "pyout",
       "prompt_number": 11,
       "text": [
        "(5896, 929, 954)"
       ]
      }
     ],
     "prompt_number": 11
    },
    {
     "cell_type": "code",
     "collapsed": false,
     "input": [],
     "language": "python",
     "metadata": {},
     "outputs": [],
     "prompt_number": 11
    },
    {
     "cell_type": "code",
     "collapsed": false,
     "input": [
      "scatter_df(\n",
      "           df=good_bad_df_shuffle, \n",
      "           xcol='percent_capital_root', \n",
      "           ycol='percent_swears_root',\n",
      "           c='cls_color',\n",
      "           alpha = 0.8,\n",
      "           xlabel=\"% uppercase\",\n",
      "           ylabel=\"% profanity\",\n",
      "           title=\"Profanity vs uppercase\", pic_title=\"profVSupper\"\n",
      "           )"
     ],
     "language": "python",
     "metadata": {},
     "outputs": [
      {
       "metadata": {},
       "output_type": "display_data",
       "png": "[encoded data removed]",
       "text": [
        "<matplotlib.figure.Figure at 0x6df7690>"
       ]
      }
     ],
     "prompt_number": 12
    },
    {
     "cell_type": "code",
     "collapsed": false,
     "input": [
      "import seaborn as sns"
     ],
     "language": "python",
     "metadata": {},
     "outputs": [
      {
       "output_type": "stream",
       "stream": "stderr",
       "text": [
        "/home/gautam/anaconda/lib/python2.7/site-packages/statsmodels/tsa/kalmanf/kalmanfilter.py:32: RuntimeWarning: numpy.ufunc size changed, may indicate binary incompatibility\n",
        "  from . import kalman_loglike\n",
        "/home/gautam/anaconda/lib/python2.7/site-packages/scipy/signal/spectral.py:10: RuntimeWarning: numpy.ufunc size changed, may indicate binary incompatibility\n",
        "  from ._spectral import lombscargle\n"
       ]
      },
      {
       "output_type": "stream",
       "stream": "stderr",
       "text": [
        "/home/gautam/anaconda/lib/python2.7/site-packages/statsmodels/nonparametric/kde.py:25: RuntimeWarning: numpy.ufunc size changed, may indicate binary incompatibility\n",
        "  from .linbin import fast_linbin\n",
        "/home/gautam/anaconda/lib/python2.7/site-packages/statsmodels/nonparametric/smoothers_lowess.py:11: RuntimeWarning: numpy.ufunc size changed, may indicate binary incompatibility\n",
        "  from ._smoothers_lowess import lowess as _lowess\n"
       ]
      }
     ],
     "prompt_number": 13
    },
    {
     "cell_type": "code",
     "collapsed": false,
     "input": [],
     "language": "python",
     "metadata": {},
     "outputs": [],
     "prompt_number": 13
    },
    {
     "cell_type": "code",
     "collapsed": false,
     "input": [
      "g = sns.FacetGrid(good_bad_df, row=\"cls\", col=\"cls\", margin_titles=True)\n",
      "g.map(sns.regplot, \"score\", \"score\", color=\".3\", fit_reg=False, x_jitter=.1);"
     ],
     "language": "python",
     "metadata": {},
     "outputs": [
      {
       "metadata": {},
       "output_type": "display_data",
       "png": "[encoded data removed]",
       "text": [
        "<matplotlib.figure.Figure at 0x85d2090>"
       ]
      }
     ],
     "prompt_number": 14
    },
    {
     "cell_type": "code",
     "collapsed": false,
     "input": [
      "from scipy import stats"
     ],
     "language": "python",
     "metadata": {},
     "outputs": [],
     "prompt_number": 33
    },
    {
     "cell_type": "code",
     "collapsed": false,
     "input": [],
     "language": "python",
     "metadata": {},
     "outputs": [],
     "prompt_number": 33
    },
    {
     "cell_type": "code",
     "collapsed": false,
     "input": [],
     "language": "python",
     "metadata": {},
     "outputs": [],
     "prompt_number": 33
    },
    {
     "cell_type": "code",
     "collapsed": false,
     "input": [
      "g = sns.JointGrid(\"% uppercase\", \"% profanity\", good_bad_df)\n",
      "g.plot_marginals(sns.distplot, kde=False, color=\".5\", bins=30)\n",
      "#g.plot_joint(plt.scatter, color=\"0.5\", edgecolor=\"white\")\n",
      "g.ax_joint.scatter(x=good_bad_df_shuffle[\"percent_capital_root\"], y=good_bad_df_shuffle[\"percent_swears_root\"], c=good_bad_df_shuffle['cls_color'], cmap=lcm, s=10, alpha=0.7, edgecolor='')\n",
      "g.ax_marg_x.set_title(\"Profanity and uppercase\")\n",
      "#make legend\n",
      "for cls in classes:\n",
      "    if cls == 'good' or cls == 'bad':\n",
      "        g.ax_joint.scatter([],[],c=colors[classes[cls]],label=cls, edgecolor='')\n",
      "g.ax_joint.legend(fontsize=10)\n",
      "g.fig.savefig(\"profVSupper\", dpi=300, bbox_inches='tight')"
     ],
     "language": "python",
     "metadata": {},
     "outputs": [
      {
       "metadata": {},
       "output_type": "display_data",
       "png": "[encoded data removed]",
       "text": [
        "<matplotlib.figure.Figure at 0x15736ad0>"
       ]
      }
     ],
     "prompt_number": 90
    },
    {
     "cell_type": "code",
     "collapsed": false,
     "input": [
      "good_bad_df['num_swears'] = good_bad_df.content.apply(lambda x : int(sum([1 for w in TextBlob(x).tokenize() if w.lower() in swears2])))\n",
      "good_bad_df['num_swears_root'] = np.sqrt(good_bad_df.num_swears)\n",
      "good_bad_df['percent_swears'] = (good_bad_df.num_swears/good_bad_df.comment_num_words).fillna(0)\n",
      "good_bad_df['percent_swears_root'] = np.sqrt(good_bad_df.percent_swears)"
     ],
     "language": "python",
     "metadata": {},
     "outputs": [],
     "prompt_number": 31
    },
    {
     "cell_type": "code",
     "collapsed": false,
     "input": [
      "good_bad_df[\"cls_color_2\"] = good_bad_df.cls_color/2"
     ],
     "language": "python",
     "metadata": {},
     "outputs": [],
     "prompt_number": 55
    },
    {
     "cell_type": "code",
     "collapsed": false,
     "input": [
      "good_bad_df[\"% profanity\"] = good_bad_df.percent_swears_root\n",
      "good_bad_df[\"% uppercase\"] = good_bad_df.percent_capital_root"
     ],
     "language": "python",
     "metadata": {},
     "outputs": [],
     "prompt_number": 69
    },
    {
     "cell_type": "code",
     "collapsed": false,
     "input": [
      "good_bad_df['cls_color'] = good_bad_df.cls.apply(lambda x: classes[x])"
     ],
     "language": "python",
     "metadata": {},
     "outputs": [],
     "prompt_number": 81
    },
    {
     "cell_type": "code",
     "collapsed": false,
     "input": [
      "set(list(good_bad_df.cls_color_2))"
     ],
     "language": "python",
     "metadata": {},
     "outputs": [
      {
       "metadata": {},
       "output_type": "pyout",
       "prompt_number": 24,
       "text": [
        "{0.0, 1.0}"
       ]
      }
     ],
     "prompt_number": 24
    },
    {
     "cell_type": "code",
     "collapsed": false,
     "input": [
      "from textstat.textstat import textstat"
     ],
     "language": "python",
     "metadata": {},
     "outputs": [],
     "prompt_number": 39
    },
    {
     "cell_type": "code",
     "collapsed": false,
     "input": [
      "good_bad_df['reading_ease'] = good_bad_df.content.apply(lambda x : textstat.syllable_count(x) if len(x) > 5 else 0)"
     ],
     "language": "python",
     "metadata": {},
     "outputs": [],
     "prompt_number": 97
    },
    {
     "cell_type": "code",
     "collapsed": false,
     "input": [
      "set([i for i in good_bad_df.content if len(i) == 1])"
     ],
     "language": "python",
     "metadata": {},
     "outputs": [
      {
       "metadata": {},
       "output_type": "pyout",
       "prompt_number": 43,
       "text": [
        "{'?'}"
       ]
      }
     ],
     "prompt_number": 43
    },
    {
     "cell_type": "code",
     "collapsed": false,
     "input": [
      "stuff = good_bad_df.num_swears/good_bad_df.comment_num_words"
     ],
     "language": "python",
     "metadata": {},
     "outputs": [],
     "prompt_number": 23
    },
    {
     "cell_type": "code",
     "collapsed": false,
     "input": [
      "set([type(i) for i in set(list(good_bad_df.percent_swears))])"
     ],
     "language": "python",
     "metadata": {},
     "outputs": [
      {
       "metadata": {},
       "output_type": "pyout",
       "prompt_number": 29,
       "text": [
        "{numpy.float64}"
       ]
      }
     ],
     "prompt_number": 29
    },
    {
     "cell_type": "code",
     "collapsed": false,
     "input": [
      "type(g)"
     ],
     "language": "python",
     "metadata": {},
     "outputs": [
      {
       "metadata": {},
       "output_type": "pyout",
       "prompt_number": 39,
       "text": [
        "seaborn.axisgrid.JointGrid"
       ]
      }
     ],
     "prompt_number": 39
    },
    {
     "cell_type": "code",
     "collapsed": false,
     "input": [
      "sns.color_palette()"
     ],
     "language": "python",
     "metadata": {},
     "outputs": [
      {
       "metadata": {},
       "output_type": "pyout",
       "prompt_number": 50,
       "text": [
        "[(0.2980392156862745, 0.4470588235294118, 0.6901960784313725),\n",
        " (0.3333333333333333, 0.6588235294117647, 0.40784313725490196),\n",
        " (0.7686274509803922, 0.3058823529411765, 0.3215686274509804),\n",
        " (0.5058823529411764, 0.4470588235294118, 0.6980392156862745),\n",
        " (0.8, 0.7254901960784313, 0.4549019607843137),\n",
        " (0.39215686274509803, 0.7098039215686275, 0.803921568627451)]"
       ]
      }
     ],
     "prompt_number": 50
    },
    {
     "cell_type": "code",
     "collapsed": false,
     "input": [],
     "language": "python",
     "metadata": {},
     "outputs": []
    }
   ],
   "metadata": {}
  }
 ]
}