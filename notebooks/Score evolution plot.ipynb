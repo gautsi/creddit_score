{
 "metadata": {
  "name": ""
 },
 "nbformat": 3,
 "nbformat_minor": 0,
 "worksheets": [
  {
   "cells": [
    {
     "cell_type": "code",
     "collapsed": false,
     "input": [
      "%matplotlib inline\n",
      "import matplotlib.pyplot as plt\n",
      "import matplotlib.colors as cl\n",
      "import matplotlib.patches as mpatches\n",
      "import matplotlib.cm as cm\n",
      "import numpy as np\n",
      "import pandas as pd\n",
      "from sqlalchemy import MetaData, create_engine"
     ],
     "language": "python",
     "metadata": {},
     "outputs": [
      {
       "output_type": "stream",
       "stream": "stderr",
       "text": [
        "/home/gautam/anaconda/lib/python2.7/site-packages/pytz/__init__.py:35: UserWarning: Module argparse was already imported from /home/gautam/anaconda/lib/python2.7/argparse.pyc, but /home/gautam/anaconda/lib/python2.7/site-packages is being added to sys.path\n",
        "  from pkg_resources import resource_stream\n"
       ]
      }
     ],
     "prompt_number": 1
    },
    {
     "cell_type": "code",
     "collapsed": false,
     "input": [
      "colors = ['r', 'b', 'g', 'm', 'c']\n",
      "lcm = cl.ListedColormap(colors)\n",
      "\n",
      "subreddits = ['DataIsBeautiful', 'programming', 'Technology', 'Python', 'C++']"
     ],
     "language": "python",
     "metadata": {},
     "outputs": [],
     "prompt_number": 2
    },
    {
     "cell_type": "code",
     "collapsed": false,
     "input": [
      "engine = create_engine('mysql+pymysql://gautam@localhost/reddit_comments_submissions')\n",
      "comments_df = pd.read_sql(sql=\"select * from comm_subm\", con=engine)\n",
      "submissions_df = pd.read_sql(sql=\"select * from submissions\", con=engine)"
     ],
     "language": "python",
     "metadata": {},
     "outputs": [],
     "prompt_number": 3
    },
    {
     "cell_type": "code",
     "collapsed": false,
     "input": [
      "comments_df['age'] = comments_df.created - comments_df.subm_created\n",
      "comments_df['age_min'] = comments_df.age/60.0\n",
      "comments_df['age_min_log'] = np.log(comments_df.age_min)\n",
      "comments_df['time_since_post'] = comments_df.timestamp - comments_df.created\n",
      "comments_df['time_since_post_min'] = comments_df.time_since_post/60.0\n",
      "comments_df['time_since_post_min_log'] = np.log(comments_df.time_since_post_min)\n",
      "comments_df['color'] = comments_df.subreddit.apply(lambda x : subreddits.index(x))\n",
      "comments_df['comment_length'] = comments_df.content.apply(len)\n",
      "comments_df['comment_num_words'] = comments_df.content.apply(lambda x : len(x.split()))\n",
      "comments_df['comment_length_log'] = np.log(comments_df.comment_length)\n",
      "comments_df['comment_num_words_log'] = np.log(comments_df.comment_num_words)\n",
      "comments_df['subm_num_comments_log'] = np.log(comments_df.subm_num_comments)\n"
     ],
     "language": "python",
     "metadata": {},
     "outputs": [],
     "prompt_number": 4
    },
    {
     "cell_type": "code",
     "collapsed": false,
     "input": [
      "def cube_root(x):\n",
      "    if x > 0:\n",
      "        return x**(1.0/3.0)\n",
      "    else:\n",
      "        return -1*(-1*x)**(1.0/3.0)\n",
      "\n",
      "comments_df['cube_score'] = comments_df.score.apply(lambda x : cube_root(x))\n",
      "comments_df['cube_subm_score'] = comments_df.subm_score.apply(lambda x : cube_root(x))"
     ],
     "language": "python",
     "metadata": {},
     "outputs": [],
     "prompt_number": 5
    },
    {
     "cell_type": "code",
     "collapsed": false,
     "input": [
      "len(comments_df)"
     ],
     "language": "python",
     "metadata": {},
     "outputs": [
      {
       "metadata": {},
       "output_type": "pyout",
       "prompt_number": 6,
       "text": [
        "165476"
       ]
      }
     ],
     "prompt_number": 6
    },
    {
     "cell_type": "code",
     "collapsed": false,
     "input": [
      "comment_count = comments_df[['comment_id']].groupby(comments_df.comment_id).count()"
     ],
     "language": "python",
     "metadata": {},
     "outputs": [],
     "prompt_number": 7
    },
    {
     "cell_type": "code",
     "collapsed": false,
     "input": [
      "repeated_comments = comment_count[comment_count.comment_id > 5].index"
     ],
     "language": "python",
     "metadata": {},
     "outputs": [],
     "prompt_number": 8
    },
    {
     "cell_type": "code",
     "collapsed": false,
     "input": [
      "len(repeated_comments)"
     ],
     "language": "python",
     "metadata": {},
     "outputs": [
      {
       "metadata": {},
       "output_type": "pyout",
       "prompt_number": 9,
       "text": [
        "9177"
       ]
      }
     ],
     "prompt_number": 9
    },
    {
     "cell_type": "code",
     "collapsed": false,
     "input": [],
     "language": "python",
     "metadata": {},
     "outputs": [],
     "prompt_number": 9
    },
    {
     "cell_type": "code",
     "collapsed": false,
     "input": [],
     "language": "python",
     "metadata": {},
     "outputs": [],
     "prompt_number": 13
    },
    {
     "cell_type": "code",
     "collapsed": false,
     "input": [
      "plt.clf()\n",
      "\n",
      "for comment in repeated_comments:\n",
      "    rows = comments_df[comments_df.comment_id == comment]\n",
      "    scores = list(rows.score)\n",
      "    #times = list(rows.time_since_post_min)\n",
      "    #good_start = max([times.index(time) for time in times if time > 0])\n",
      "    stops_changing = scores.index(scores[-1]) if abs(scores[-1]) > 10 else 0 \n",
      "    x = rows.time_since_post_min[:stops_changing]\n",
      "    y = rows.score[:stops_changing]\n",
      "    plt.plot(x, y, alpha = 0.4, c=colors[rows.color.iloc[0]])\n",
      "plt.xlabel(\"min\")\n",
      "plt.ylabel(\"score\")\n",
      "plt.title(\"The score of comments over time\")\n",
      "\n",
      "\n",
      "#make_legend\n",
      "for i in xrange(len(subreddits)):\n",
      "    plt.plot([],[],c=colors[i],label=subreddits[i])\n",
      "    plt.legend(fontsize=6, loc=2)\n",
      "    \n",
      "plt.savefig(\"time_evo\", dpi=300)"
     ],
     "language": "python",
     "metadata": {},
     "outputs": [
      {
       "metadata": {},
       "output_type": "display_data",
       "png": "[encoded data removed]",
       "text": [
        "<matplotlib.figure.Figure at 0x7a6f590>"
       ]
      }
     ],
     "prompt_number": 27
    },
    {
     "cell_type": "code",
     "collapsed": false,
     "input": [
      "l = [1,2,3,4,4,4]"
     ],
     "language": "python",
     "metadata": {},
     "outputs": [],
     "prompt_number": 8
    },
    {
     "cell_type": "code",
     "collapsed": false,
     "input": [
      "l.index(l[-1])"
     ],
     "language": "python",
     "metadata": {},
     "outputs": [
      {
       "metadata": {},
       "output_type": "pyout",
       "prompt_number": 9,
       "text": [
        "3"
       ]
      }
     ],
     "prompt_number": 9
    },
    {
     "cell_type": "code",
     "collapsed": false,
     "input": [
      "np.exp(2)"
     ],
     "language": "python",
     "metadata": {},
     "outputs": [
      {
       "metadata": {},
       "output_type": "pyout",
       "prompt_number": 19,
       "text": [
        "7.3890560989306504"
       ]
      }
     ],
     "prompt_number": 19
    },
    {
     "cell_type": "code",
     "collapsed": false,
     "input": [],
     "language": "python",
     "metadata": {},
     "outputs": []
    }
   ],
   "metadata": {}
  }
 ]
}