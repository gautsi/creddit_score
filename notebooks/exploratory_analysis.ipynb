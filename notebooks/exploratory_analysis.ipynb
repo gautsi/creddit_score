{
 "metadata": {
  "name": ""
 },
 "nbformat": 3,
 "nbformat_minor": 0,
 "worksheets": [
  {
   "cells": [
    {
     "cell_type": "code",
     "collapsed": false,
     "input": [
      "%matplotlib inline"
     ],
     "language": "python",
     "metadata": {},
     "outputs": [],
     "prompt_number": 1
    },
    {
     "cell_type": "code",
     "collapsed": false,
     "input": [
      "import matplotlib.pyplot as plt"
     ],
     "language": "python",
     "metadata": {},
     "outputs": [],
     "prompt_number": 2
    },
    {
     "cell_type": "code",
     "collapsed": false,
     "input": [
      "import numpy as np"
     ],
     "language": "python",
     "metadata": {},
     "outputs": [],
     "prompt_number": 3
    },
    {
     "cell_type": "code",
     "collapsed": false,
     "input": [
      "import pandas as pd\n",
      "from sqlalchemy import MetaData, create_engine"
     ],
     "language": "python",
     "metadata": {},
     "outputs": [
      {
       "output_type": "stream",
       "stream": "stderr",
       "text": [
        "/home/gautam/anaconda/lib/python2.7/site-packages/pytz/__init__.py:35: UserWarning: Module argparse was already imported from /home/gautam/anaconda/lib/python2.7/argparse.pyc, but /home/gautam/anaconda/lib/python2.7/site-packages is being added to sys.path\n",
        "  from pkg_resources import resource_stream\n"
       ]
      }
     ],
     "prompt_number": 4
    },
    {
     "cell_type": "code",
     "collapsed": false,
     "input": [
      "engine = create_engine('mysql+pymysql://gautam@localhost/reddit_comments')\n",
      "comments_df = pd.read_sql(sql=\"select * from comments where comments.subreddit='dataisbeautiful'\", con=engine)\n",
      "submissions_df = pd.read_sql(sql=\"select * from submissions\", con=engine)"
     ],
     "language": "python",
     "metadata": {},
     "outputs": [],
     "prompt_number": 20
    },
    {
     "cell_type": "code",
     "collapsed": false,
     "input": [
      "comments_df.tail()"
     ],
     "language": "python",
     "metadata": {},
     "outputs": [
      {
       "html": [
        "<div style=\"max-height:1000px;max-width:1500px;overflow:auto;\">\n",
        "<table border=\"1\" class=\"dataframe\">\n",
        "  <thead>\n",
        "    <tr style=\"text-align: right;\">\n",
        "      <th></th>\n",
        "      <th>idcomments</th>\n",
        "      <th>comment_id</th>\n",
        "      <th>user_id</th>\n",
        "      <th>submission_id</th>\n",
        "      <th>prev_comment_id</th>\n",
        "      <th>created</th>\n",
        "      <th>timestamp</th>\n",
        "      <th>content</th>\n",
        "      <th>subreddit</th>\n",
        "      <th>score</th>\n",
        "    </tr>\n",
        "  </thead>\n",
        "  <tbody>\n",
        "    <tr>\n",
        "      <th>1169</th>\n",
        "      <td> 10395</td>\n",
        "      <td> t1_crnlkfl</td>\n",
        "      <td>         lrssrx</td>\n",
        "      <td> 37khx6</td>\n",
        "      <td> t1_crnjw4j</td>\n",
        "      <td> 1432823080</td>\n",
        "      <td> 1433637170</td>\n",
        "      <td> It implies that (in my mind) top earners tend ...</td>\n",
        "      <td> DataIsBeautiful</td>\n",
        "      <td> 0</td>\n",
        "    </tr>\n",
        "    <tr>\n",
        "      <th>1170</th>\n",
        "      <td> 10396</td>\n",
        "      <td> t1_crnlz23</td>\n",
        "      <td>       Dynamo24</td>\n",
        "      <td> 37khx6</td>\n",
        "      <td> t1_crnlkfl</td>\n",
        "      <td> 1432823888</td>\n",
        "      <td> 1433637170</td>\n",
        "      <td> Yeah it makes sense. Just think of how many co...</td>\n",
        "      <td> DataIsBeautiful</td>\n",
        "      <td> 1</td>\n",
        "    </tr>\n",
        "    <tr>\n",
        "      <th>1171</th>\n",
        "      <td> 10397</td>\n",
        "      <td> t1_crnnuw0</td>\n",
        "      <td> meatyveganious</td>\n",
        "      <td> 37khx6</td>\n",
        "      <td>  t3_37khx6</td>\n",
        "      <td> 1432827297</td>\n",
        "      <td> 1433637170</td>\n",
        "      <td>       notice the jumps in income during war time.</td>\n",
        "      <td> DataIsBeautiful</td>\n",
        "      <td>-1</td>\n",
        "    </tr>\n",
        "    <tr>\n",
        "      <th>1172</th>\n",
        "      <td> 10398</td>\n",
        "      <td> t1_crnszze</td>\n",
        "      <td>          fikis</td>\n",
        "      <td> 37khx6</td>\n",
        "      <td> t1_crnnuw0</td>\n",
        "      <td> 1432835369</td>\n",
        "      <td> 1433637170</td>\n",
        "      <td> I see them.  What's their significance?  I mea...</td>\n",
        "      <td> DataIsBeautiful</td>\n",
        "      <td> 1</td>\n",
        "    </tr>\n",
        "    <tr>\n",
        "      <th>1173</th>\n",
        "      <td> 10399</td>\n",
        "      <td> t1_crnnyp1</td>\n",
        "      <td>  KrillBeBallaz</td>\n",
        "      <td> 37khx6</td>\n",
        "      <td>  t3_37khx6</td>\n",
        "      <td> 1432827479</td>\n",
        "      <td> 1433637170</td>\n",
        "      <td>                         This is really confusing.</td>\n",
        "      <td> DataIsBeautiful</td>\n",
        "      <td>-3</td>\n",
        "    </tr>\n",
        "  </tbody>\n",
        "</table>\n",
        "</div>"
       ],
       "metadata": {},
       "output_type": "pyout",
       "prompt_number": 21,
       "text": [
        "      idcomments  comment_id         user_id submission_id prev_comment_id  \\\n",
        "1169       10395  t1_crnlkfl          lrssrx        37khx6      t1_crnjw4j   \n",
        "1170       10396  t1_crnlz23        Dynamo24        37khx6      t1_crnlkfl   \n",
        "1171       10397  t1_crnnuw0  meatyveganious        37khx6       t3_37khx6   \n",
        "1172       10398  t1_crnszze           fikis        37khx6      t1_crnnuw0   \n",
        "1173       10399  t1_crnnyp1   KrillBeBallaz        37khx6       t3_37khx6   \n",
        "\n",
        "         created   timestamp  \\\n",
        "1169  1432823080  1433637170   \n",
        "1170  1432823888  1433637170   \n",
        "1171  1432827297  1433637170   \n",
        "1172  1432835369  1433637170   \n",
        "1173  1432827479  1433637170   \n",
        "\n",
        "                                                content        subreddit  \\\n",
        "1169  It implies that (in my mind) top earners tend ...  DataIsBeautiful   \n",
        "1170  Yeah it makes sense. Just think of how many co...  DataIsBeautiful   \n",
        "1171        notice the jumps in income during war time.  DataIsBeautiful   \n",
        "1172  I see them.  What's their significance?  I mea...  DataIsBeautiful   \n",
        "1173                          This is really confusing.  DataIsBeautiful   \n",
        "\n",
        "      score  \n",
        "1169      0  \n",
        "1170      1  \n",
        "1171     -1  \n",
        "1172      1  \n",
        "1173     -3  "
       ]
      }
     ],
     "prompt_number": 21
    },
    {
     "cell_type": "code",
     "collapsed": false,
     "input": [
      "comments_df[comments_df.score < 10].score.hist(bins=100)"
     ],
     "language": "python",
     "metadata": {},
     "outputs": [
      {
       "metadata": {},
       "output_type": "pyout",
       "prompt_number": 7,
       "text": [
        "<matplotlib.axes.AxesSubplot at 0x57366d0>"
       ]
      },
      {
       "metadata": {},
       "output_type": "display_data",
       "png": "[encoded data removed]",
       "text": [
        "<matplotlib.figure.Figure at 0x57362d0>"
       ]
      }
     ],
     "prompt_number": 7
    },
    {
     "cell_type": "code",
     "collapsed": false,
     "input": [
      "plt.clf()\n",
      "plt.scatter(age, comments_df.score)"
     ],
     "language": "python",
     "metadata": {},
     "outputs": [
      {
       "ename": "NameError",
       "evalue": "name 'age' is not defined",
       "output_type": "pyerr",
       "traceback": [
        "\u001b[1;31m---------------------------------------------------------------------------\u001b[0m\n\u001b[1;31mNameError\u001b[0m                                 Traceback (most recent call last)",
        "\u001b[1;32m<ipython-input-8-9a1522816cd5>\u001b[0m in \u001b[0;36m<module>\u001b[1;34m()\u001b[0m\n\u001b[0;32m      1\u001b[0m \u001b[0mplt\u001b[0m\u001b[1;33m.\u001b[0m\u001b[0mclf\u001b[0m\u001b[1;33m(\u001b[0m\u001b[1;33m)\u001b[0m\u001b[1;33m\u001b[0m\u001b[0m\n\u001b[1;32m----> 2\u001b[1;33m \u001b[0mplt\u001b[0m\u001b[1;33m.\u001b[0m\u001b[0mscatter\u001b[0m\u001b[1;33m(\u001b[0m\u001b[0mage\u001b[0m\u001b[1;33m,\u001b[0m \u001b[0mcomments_df\u001b[0m\u001b[1;33m.\u001b[0m\u001b[0mscore\u001b[0m\u001b[1;33m)\u001b[0m\u001b[1;33m\u001b[0m\u001b[0m\n\u001b[0m",
        "\u001b[1;31mNameError\u001b[0m: name 'age' is not defined"
       ]
      },
      {
       "metadata": {},
       "output_type": "display_data",
       "text": [
        "<matplotlib.figure.Figure at 0x559d3d0>"
       ]
      }
     ],
     "prompt_number": 8
    },
    {
     "cell_type": "code",
     "collapsed": false,
     "input": [
      "#plotting cols vs transvalue\n",
      "#cols = newdf.columns\n",
      "#scat_cols=cols[[4,5,6,7,8,9,10,11,12,13,14]]\n",
      "\n",
      "def log_score_scats(df, prefix='log_score', cols = scat_cols):\n",
      "    for col in cols:\n",
      "        plt.clf()\n",
      "        plt.scatter(df[col], df.transvalue, c=df.color, s=25, cmap=lcm)\n",
      "        plt.title(col)\n",
      "        plt.savefig(prefix+col, dpi=300)\n",
      "        print \"plotted \"+col"
     ],
     "language": "python",
     "metadata": {},
     "outputs": [
      {
       "ename": "NameError",
       "evalue": "name 'scat_cols' is not defined",
       "output_type": "pyerr",
       "traceback": [
        "\u001b[1;31m---------------------------------------------------------------------------\u001b[0m\n\u001b[1;31mNameError\u001b[0m                                 Traceback (most recent call last)",
        "\u001b[1;32m<ipython-input-9-38ead4b52767>\u001b[0m in \u001b[0;36m<module>\u001b[1;34m()\u001b[0m\n\u001b[0;32m      3\u001b[0m \u001b[1;31m#scat_cols=cols[[4,5,6,7,8,9,10,11,12,13,14]]\u001b[0m\u001b[1;33m\u001b[0m\u001b[1;33m\u001b[0m\u001b[0m\n\u001b[0;32m      4\u001b[0m \u001b[1;33m\u001b[0m\u001b[0m\n\u001b[1;32m----> 5\u001b[1;33m \u001b[1;32mdef\u001b[0m \u001b[0mlog_score_scats\u001b[0m\u001b[1;33m(\u001b[0m\u001b[0mdf\u001b[0m\u001b[1;33m,\u001b[0m \u001b[0mprefix\u001b[0m\u001b[1;33m=\u001b[0m\u001b[1;34m'log_score'\u001b[0m\u001b[1;33m,\u001b[0m \u001b[0mcols\u001b[0m \u001b[1;33m=\u001b[0m \u001b[0mscat_cols\u001b[0m\u001b[1;33m)\u001b[0m\u001b[1;33m:\u001b[0m\u001b[1;33m\u001b[0m\u001b[0m\n\u001b[0m\u001b[0;32m      6\u001b[0m     \u001b[1;32mfor\u001b[0m \u001b[0mcol\u001b[0m \u001b[1;32min\u001b[0m \u001b[0mcols\u001b[0m\u001b[1;33m:\u001b[0m\u001b[1;33m\u001b[0m\u001b[0m\n\u001b[0;32m      7\u001b[0m         \u001b[0mplt\u001b[0m\u001b[1;33m.\u001b[0m\u001b[0mclf\u001b[0m\u001b[1;33m(\u001b[0m\u001b[1;33m)\u001b[0m\u001b[1;33m\u001b[0m\u001b[0m\n",
        "\u001b[1;31mNameError\u001b[0m: name 'scat_cols' is not defined"
       ]
      }
     ],
     "prompt_number": 9
    },
    {
     "cell_type": "code",
     "collapsed": false,
     "input": [
      "comments_df[comments_df.score > 3000].iloc[1].content"
     ],
     "language": "python",
     "metadata": {},
     "outputs": [
      {
       "metadata": {},
       "output_type": "pyout",
       "prompt_number": 10,
       "text": [
        "\"I feel like I'm in the menu screen of an early Final Fantasy game.\""
       ]
      }
     ],
     "prompt_number": 10
    },
    {
     "cell_type": "code",
     "collapsed": false,
     "input": [
      "comments_df.score.describe()"
     ],
     "language": "python",
     "metadata": {},
     "outputs": [
      {
       "metadata": {},
       "output_type": "pyout",
       "prompt_number": 11,
       "text": [
        "count    10329.000000\n",
        "mean        15.810437\n",
        "std         99.011781\n",
        "min       -133.000000\n",
        "25%          1.000000\n",
        "50%          2.000000\n",
        "75%          5.000000\n",
        "max       3970.000000\n",
        "Name: score, dtype: float64"
       ]
      }
     ],
     "prompt_number": 11
    },
    {
     "cell_type": "code",
     "collapsed": false,
     "input": [
      "comments_df.created.hist()"
     ],
     "language": "python",
     "metadata": {},
     "outputs": [
      {
       "metadata": {},
       "output_type": "pyout",
       "prompt_number": 12,
       "text": [
        "<matplotlib.axes.AxesSubplot at 0x620afd0>"
       ]
      },
      {
       "metadata": {},
       "output_type": "display_data",
       "png": "[encoded data removed]",
       "text": [
        "<matplotlib.figure.Figure at 0x380efd0>"
       ]
      }
     ],
     "prompt_number": 12
    },
    {
     "cell_type": "code",
     "collapsed": false,
     "input": [
      "def get_age(x):\n",
      "    subm = submissions_df[submissions_df.submission_id == 't3_'+x.submission_id]\n",
      "    return x.created-subm.iloc[0].created"
     ],
     "language": "python",
     "metadata": {},
     "outputs": [],
     "prompt_number": 13
    },
    {
     "cell_type": "code",
     "collapsed": false,
     "input": [
      "age = [get_age(comments_df.loc[i]) for i in xrange(len(comments_df))]"
     ],
     "language": "python",
     "metadata": {},
     "outputs": [],
     "prompt_number": 14
    },
    {
     "cell_type": "code",
     "collapsed": false,
     "input": [],
     "language": "python",
     "metadata": {},
     "outputs": [],
     "prompt_number": 132
    },
    {
     "cell_type": "code",
     "collapsed": false,
     "input": [
      "type(comments_df.iloc[0])"
     ],
     "language": "python",
     "metadata": {},
     "outputs": [
      {
       "metadata": {},
       "output_type": "pyout",
       "prompt_number": 15,
       "text": [
        "pandas.core.series.Series"
       ]
      }
     ],
     "prompt_number": 15
    },
    {
     "cell_type": "code",
     "collapsed": false,
     "input": [
      "submissions_df.head()"
     ],
     "language": "python",
     "metadata": {},
     "outputs": [
      {
       "html": [
        "<div style=\"max-height:1000px;max-width:1500px;overflow:auto;\">\n",
        "<table border=\"1\" class=\"dataframe\">\n",
        "  <thead>\n",
        "    <tr style=\"text-align: right;\">\n",
        "      <th></th>\n",
        "      <th>idsubmissions</th>\n",
        "      <th>submission_id</th>\n",
        "      <th>title</th>\n",
        "      <th>content</th>\n",
        "      <th>timestamp</th>\n",
        "      <th>created</th>\n",
        "      <th>score</th>\n",
        "      <th>author</th>\n",
        "      <th>num_comments</th>\n",
        "    </tr>\n",
        "  </thead>\n",
        "  <tbody>\n",
        "    <tr>\n",
        "      <th>0</th>\n",
        "      <td> 11</td>\n",
        "      <td> t3_38j1jk</td>\n",
        "      <td>   Top comment after Caitlyn's transformation.</td>\n",
        "      <td> </td>\n",
        "      <td> 1433432231</td>\n",
        "      <td> 1433460437</td>\n",
        "      <td>    2</td>\n",
        "      <td>  AceAllen90</td>\n",
        "      <td>  0</td>\n",
        "    </tr>\n",
        "    <tr>\n",
        "      <th>1</th>\n",
        "      <td> 12</td>\n",
        "      <td> t3_38glxz</td>\n",
        "      <td>                         \"...and other things\"</td>\n",
        "      <td> </td>\n",
        "      <td> 1433432292</td>\n",
        "      <td> 1433411928</td>\n",
        "      <td>   47</td>\n",
        "      <td>     _uff_da</td>\n",
        "      <td>  4</td>\n",
        "    </tr>\n",
        "    <tr>\n",
        "      <th>2</th>\n",
        "      <td> 13</td>\n",
        "      <td> t3_38bl7e</td>\n",
        "      <td>                         High school libraries</td>\n",
        "      <td> </td>\n",
        "      <td> 1433432358</td>\n",
        "      <td> 1433332765</td>\n",
        "      <td> 4617</td>\n",
        "      <td>      mcl523</td>\n",
        "      <td> 87</td>\n",
        "    </tr>\n",
        "    <tr>\n",
        "      <th>3</th>\n",
        "      <td> 14</td>\n",
        "      <td> t3_38iygr</td>\n",
        "      <td> Someone turned Steve Buscemi's dog into our l</td>\n",
        "      <td> </td>\n",
        "      <td> 1433432424</td>\n",
        "      <td> 1433459266</td>\n",
        "      <td>    3</td>\n",
        "      <td> KawaiiTimes</td>\n",
        "      <td>  1</td>\n",
        "    </tr>\n",
        "    <tr>\n",
        "      <th>4</th>\n",
        "      <td> 15</td>\n",
        "      <td> t3_38irgn</td>\n",
        "      <td>                           The disappointment.</td>\n",
        "      <td> </td>\n",
        "      <td> 1433432489</td>\n",
        "      <td> 1433456268</td>\n",
        "      <td>    4</td>\n",
        "      <td>     5000fed</td>\n",
        "      <td>  0</td>\n",
        "    </tr>\n",
        "  </tbody>\n",
        "</table>\n",
        "</div>"
       ],
       "metadata": {},
       "output_type": "pyout",
       "prompt_number": 16,
       "text": [
        "   idsubmissions submission_id                                          title  \\\n",
        "0             11     t3_38j1jk    Top comment after Caitlyn's transformation.   \n",
        "1             12     t3_38glxz                          \"...and other things\"   \n",
        "2             13     t3_38bl7e                          High school libraries   \n",
        "3             14     t3_38iygr  Someone turned Steve Buscemi's dog into our l   \n",
        "4             15     t3_38irgn                            The disappointment.   \n",
        "\n",
        "  content   timestamp     created  score       author  num_comments  \n",
        "0          1433432231  1433460437      2   AceAllen90             0  \n",
        "1          1433432292  1433411928     47      _uff_da             4  \n",
        "2          1433432358  1433332765   4617       mcl523            87  \n",
        "3          1433432424  1433459266      3  KawaiiTimes             1  \n",
        "4          1433432489  1433456268      4      5000fed             0  "
       ]
      }
     ],
     "prompt_number": 16
    },
    {
     "cell_type": "code",
     "collapsed": false,
     "input": [
      "plt.clf()\n",
      "plt.scatter([i/60.0 for i in age], np.log(comments_df.score + 20) - np.log(20), s=25)\n",
      "plt.title(\"The log score of a comment versus its age\")\n",
      "plt.savefig(\"scoreVSage\", dpi=300)"
     ],
     "language": "python",
     "metadata": {},
     "outputs": [
      {
       "metadata": {},
       "output_type": "display_data",
       "png": "[encoded data removed]",
       "text": [
        "<matplotlib.figure.Figure at 0x37f3f50>"
       ]
      }
     ],
     "prompt_number": 17
    },
    {
     "cell_type": "code",
     "collapsed": false,
     "input": [],
     "language": "python",
     "metadata": {},
     "outputs": [
      {
       "metadata": {},
       "output_type": "pyout",
       "prompt_number": 154,
       "text": [
        "nan"
       ]
      }
     ],
     "prompt_number": 154
    },
    {
     "cell_type": "code",
     "collapsed": false,
     "input": [],
     "language": "python",
     "metadata": {},
     "outputs": []
    }
   ],
   "metadata": {}
  }
 ]
}