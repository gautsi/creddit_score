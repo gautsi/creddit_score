{
 "metadata": {
  "name": ""
 },
 "nbformat": 3,
 "nbformat_minor": 0,
 "worksheets": [
  {
   "cells": [
    {
     "cell_type": "code",
     "collapsed": false,
     "input": [
      "%matplotlib inline"
     ],
     "language": "python",
     "metadata": {},
     "outputs": [],
     "prompt_number": 14
    },
    {
     "cell_type": "code",
     "collapsed": false,
     "input": [
      "import matplotlib.pyplot as plt"
     ],
     "language": "python",
     "metadata": {},
     "outputs": [],
     "prompt_number": 46
    },
    {
     "cell_type": "code",
     "collapsed": false,
     "input": [
      "import numpy as np"
     ],
     "language": "python",
     "metadata": {},
     "outputs": [],
     "prompt_number": 16
    },
    {
     "cell_type": "code",
     "collapsed": false,
     "input": [
      "import pandas as pd\n",
      "from sqlalchemy import MetaData, create_engine"
     ],
     "language": "python",
     "metadata": {},
     "outputs": [
      {
       "output_type": "stream",
       "stream": "stderr",
       "text": [
        "/home/gautam/anaconda/lib/python2.7/site-packages/pytz/__init__.py:35: UserWarning: Module argparse was already imported from /home/gautam/anaconda/lib/python2.7/argparse.pyc, but /home/gautam/anaconda/lib/python2.7/site-packages is being added to sys.path\n",
        "  from pkg_resources import resource_stream\n"
       ]
      }
     ],
     "prompt_number": 1
    },
    {
     "cell_type": "code",
     "collapsed": false,
     "input": [
      "engine = create_engine('mysql+pymysql://gautam@localhost/reddit_comments')\n",
      "comments_df = pd.read_sql(sql=\"select * from comments\", con=engine)\n",
      "submissions_df = pd.read_sql(sql=\"select * from submissions\", con=engine)"
     ],
     "language": "python",
     "metadata": {},
     "outputs": [],
     "prompt_number": 50
    },
    {
     "cell_type": "code",
     "collapsed": false,
     "input": [
      "submissions_df.tail()"
     ],
     "language": "python",
     "metadata": {},
     "outputs": [
      {
       "html": [
        "<div style=\"max-height:1000px;max-width:1500px;overflow:auto;\">\n",
        "<table border=\"1\" class=\"dataframe\">\n",
        "  <thead>\n",
        "    <tr style=\"text-align: right;\">\n",
        "      <th></th>\n",
        "      <th>idsubmissions</th>\n",
        "      <th>submission_id</th>\n",
        "      <th>title</th>\n",
        "      <th>content</th>\n",
        "      <th>timestamp</th>\n",
        "      <th>created</th>\n",
        "      <th>score</th>\n",
        "      <th>author</th>\n",
        "      <th>num_comments</th>\n",
        "    </tr>\n",
        "  </thead>\n",
        "  <tbody>\n",
        "    <tr>\n",
        "      <th>358</th>\n",
        "      <td> 369</td>\n",
        "      <td> t3_38koxb</td>\n",
        "      <td> I teach 6th grade. I should start using a wor</td>\n",
        "      <td> </td>\n",
        "      <td> 1433454552</td>\n",
        "      <td> 1433480626</td>\n",
        "      <td>  0</td>\n",
        "      <td>         cbenham2</td>\n",
        "      <td> 0</td>\n",
        "    </tr>\n",
        "    <tr>\n",
        "      <th>359</th>\n",
        "      <td> 370</td>\n",
        "      <td> t3_38kpg3</td>\n",
        "      <td>  Sorry, license plate: Didn't long; too read.</td>\n",
        "      <td> </td>\n",
        "      <td> 1433454624</td>\n",
        "      <td> 1433480777</td>\n",
        "      <td>  0</td>\n",
        "      <td>             r1ms</td>\n",
        "      <td> 0</td>\n",
        "    </tr>\n",
        "    <tr>\n",
        "      <th>360</th>\n",
        "      <td> 371</td>\n",
        "      <td> t3_38k5p3</td>\n",
        "      <td> My school let us make our own Ads in our Year</td>\n",
        "      <td> </td>\n",
        "      <td> 1433454668</td>\n",
        "      <td> 1433474544</td>\n",
        "      <td>  0</td>\n",
        "      <td>       Feastlopol</td>\n",
        "      <td> 1</td>\n",
        "    </tr>\n",
        "    <tr>\n",
        "      <th>361</th>\n",
        "      <td> 372</td>\n",
        "      <td> t3_38j07o</td>\n",
        "      <td>   Saw this on my neighbor's door this morning</td>\n",
        "      <td> </td>\n",
        "      <td> 1433454737</td>\n",
        "      <td> 1433459937</td>\n",
        "      <td> 63</td>\n",
        "      <td>      baldwin7869</td>\n",
        "      <td> 3</td>\n",
        "    </tr>\n",
        "    <tr>\n",
        "      <th>362</th>\n",
        "      <td> 373</td>\n",
        "      <td> t3_38kq8n</td>\n",
        "      <td> TIL California has been placing these signs a</td>\n",
        "      <td> </td>\n",
        "      <td> 1433454809</td>\n",
        "      <td> 1433480989</td>\n",
        "      <td>  7</td>\n",
        "      <td> KnightOfSunlight</td>\n",
        "      <td> 3</td>\n",
        "    </tr>\n",
        "  </tbody>\n",
        "</table>\n",
        "</div>"
       ],
       "metadata": {},
       "output_type": "pyout",
       "prompt_number": 51,
       "text": [
        "     idsubmissions submission_id  \\\n",
        "358            369     t3_38koxb   \n",
        "359            370     t3_38kpg3   \n",
        "360            371     t3_38k5p3   \n",
        "361            372     t3_38j07o   \n",
        "362            373     t3_38kq8n   \n",
        "\n",
        "                                             title content   timestamp  \\\n",
        "358  I teach 6th grade. I should start using a wor          1433454552   \n",
        "359   Sorry, license plate: Didn't long; too read.          1433454624   \n",
        "360  My school let us make our own Ads in our Year          1433454668   \n",
        "361    Saw this on my neighbor's door this morning          1433454737   \n",
        "362  TIL California has been placing these signs a          1433454809   \n",
        "\n",
        "        created  score            author  num_comments  \n",
        "358  1433480626      0          cbenham2             0  \n",
        "359  1433480777      0              r1ms             0  \n",
        "360  1433474544      0        Feastlopol             1  \n",
        "361  1433459937     63       baldwin7869             3  \n",
        "362  1433480989      7  KnightOfSunlight             3  "
       ]
      }
     ],
     "prompt_number": 51
    },
    {
     "cell_type": "code",
     "collapsed": false,
     "input": [
      "comments_df[comments_df.score < 10].score.hist(bins=100)"
     ],
     "language": "python",
     "metadata": {},
     "outputs": [
      {
       "metadata": {},
       "output_type": "pyout",
       "prompt_number": 69,
       "text": [
        "<matplotlib.axes.AxesSubplot at 0xa65c550>"
       ]
      },
      {
       "metadata": {},
       "output_type": "display_data",
       "png": "[encoded data removed]",
       "text": [
        "<matplotlib.figure.Figure at 0x9fca350>"
       ]
      }
     ],
     "prompt_number": 69
    },
    {
     "cell_type": "code",
     "collapsed": false,
     "input": [
      "plt.clf()\n",
      "plt.scatter(age, comments_df.score)"
     ],
     "language": "python",
     "metadata": {},
     "outputs": [
      {
       "metadata": {},
       "output_type": "pyout",
       "prompt_number": 136,
       "text": [
        "<matplotlib.collections.PathCollection at 0xb913b90>"
       ]
      },
      {
       "metadata": {},
       "output_type": "display_data",
       "png": "[encoded data removed]",
       "text": [
        "<matplotlib.figure.Figure at 0xb377090>"
       ]
      }
     ],
     "prompt_number": 136
    },
    {
     "cell_type": "code",
     "collapsed": false,
     "input": [
      "#plotting cols vs transvalue\n",
      "#cols = newdf.columns\n",
      "#scat_cols=cols[[4,5,6,7,8,9,10,11,12,13,14]]\n",
      "\n",
      "def log_score_scats(df, prefix='log_score', cols = scat_cols):\n",
      "    for col in cols:\n",
      "        plt.clf()\n",
      "        plt.scatter(df[col], df.transvalue, c=df.color, s=25, cmap=lcm)\n",
      "        plt.title(col)\n",
      "        plt.savefig(prefix+col, dpi=300)\n",
      "        print \"plotted \"+col"
     ],
     "language": "python",
     "metadata": {},
     "outputs": [],
     "prompt_number": 33
    },
    {
     "cell_type": "code",
     "collapsed": false,
     "input": [
      "comments_df[comments_df.score > 3000].iloc[1].content"
     ],
     "language": "python",
     "metadata": {},
     "outputs": [
      {
       "metadata": {},
       "output_type": "pyout",
       "prompt_number": 89,
       "text": [
        "\"I feel like I'm in the menu screen of an early Final Fantasy game.\""
       ]
      }
     ],
     "prompt_number": 89
    },
    {
     "cell_type": "code",
     "collapsed": false,
     "input": [
      "comments_df.score.describe()"
     ],
     "language": "python",
     "metadata": {},
     "outputs": [
      {
       "metadata": {},
       "output_type": "pyout",
       "prompt_number": 95,
       "text": [
        "count    4281.000000\n",
        "mean       17.684653\n",
        "std       114.894967\n",
        "min       -60.000000\n",
        "25%         1.000000\n",
        "50%         2.000000\n",
        "75%         5.000000\n",
        "max      3970.000000\n",
        "Name: score, dtype: float64"
       ]
      }
     ],
     "prompt_number": 95
    },
    {
     "cell_type": "code",
     "collapsed": false,
     "input": [
      "comments_df.created.hist()"
     ],
     "language": "python",
     "metadata": {},
     "outputs": [
      {
       "metadata": {},
       "output_type": "pyout",
       "prompt_number": 92,
       "text": [
        "<matplotlib.axes.AxesSubplot at 0xb338510>"
       ]
      },
      {
       "metadata": {},
       "output_type": "display_data",
       "png": "[encoded data removed]",
       "text": [
        "<matplotlib.figure.Figure at 0x8ad0f90>"
       ]
      }
     ],
     "prompt_number": 92
    },
    {
     "cell_type": "code",
     "collapsed": false,
     "input": [
      "def get_age(x):\n",
      "    subm = submissions_df[submissions_df.submission_id == 't3_'+x.submission_id]\n",
      "    return x.created-subm.iloc[0].created"
     ],
     "language": "python",
     "metadata": {},
     "outputs": [],
     "prompt_number": 129
    },
    {
     "cell_type": "code",
     "collapsed": false,
     "input": [
      "age = [get_age(comments_df.loc[i]) for i in xrange(len(comments_df))]"
     ],
     "language": "python",
     "metadata": {},
     "outputs": [],
     "prompt_number": 131
    },
    {
     "cell_type": "code",
     "collapsed": false,
     "input": [],
     "language": "python",
     "metadata": {},
     "outputs": [],
     "prompt_number": 132
    },
    {
     "cell_type": "code",
     "collapsed": false,
     "input": [
      "type(comments_df.iloc[0])"
     ],
     "language": "python",
     "metadata": {},
     "outputs": [
      {
       "metadata": {},
       "output_type": "pyout",
       "prompt_number": 114,
       "text": [
        "pandas.core.series.Series"
       ]
      }
     ],
     "prompt_number": 114
    },
    {
     "cell_type": "code",
     "collapsed": false,
     "input": [
      "submissions_df.head()"
     ],
     "language": "python",
     "metadata": {},
     "outputs": [
      {
       "html": [
        "<div style=\"max-height:1000px;max-width:1500px;overflow:auto;\">\n",
        "<table border=\"1\" class=\"dataframe\">\n",
        "  <thead>\n",
        "    <tr style=\"text-align: right;\">\n",
        "      <th></th>\n",
        "      <th>idsubmissions</th>\n",
        "      <th>submission_id</th>\n",
        "      <th>title</th>\n",
        "      <th>content</th>\n",
        "      <th>timestamp</th>\n",
        "      <th>created</th>\n",
        "      <th>score</th>\n",
        "      <th>author</th>\n",
        "      <th>num_comments</th>\n",
        "    </tr>\n",
        "  </thead>\n",
        "  <tbody>\n",
        "    <tr>\n",
        "      <th>0</th>\n",
        "      <td> 11</td>\n",
        "      <td> t3_38j1jk</td>\n",
        "      <td>   Top comment after Caitlyn's transformation.</td>\n",
        "      <td> </td>\n",
        "      <td> 1433432231</td>\n",
        "      <td> 1433460437</td>\n",
        "      <td>    2</td>\n",
        "      <td>  AceAllen90</td>\n",
        "      <td>  0</td>\n",
        "    </tr>\n",
        "    <tr>\n",
        "      <th>1</th>\n",
        "      <td> 12</td>\n",
        "      <td> t3_38glxz</td>\n",
        "      <td>                         \"...and other things\"</td>\n",
        "      <td> </td>\n",
        "      <td> 1433432292</td>\n",
        "      <td> 1433411928</td>\n",
        "      <td>   47</td>\n",
        "      <td>     _uff_da</td>\n",
        "      <td>  4</td>\n",
        "    </tr>\n",
        "    <tr>\n",
        "      <th>2</th>\n",
        "      <td> 13</td>\n",
        "      <td> t3_38bl7e</td>\n",
        "      <td>                         High school libraries</td>\n",
        "      <td> </td>\n",
        "      <td> 1433432358</td>\n",
        "      <td> 1433332765</td>\n",
        "      <td> 4617</td>\n",
        "      <td>      mcl523</td>\n",
        "      <td> 87</td>\n",
        "    </tr>\n",
        "    <tr>\n",
        "      <th>3</th>\n",
        "      <td> 14</td>\n",
        "      <td> t3_38iygr</td>\n",
        "      <td> Someone turned Steve Buscemi's dog into our l</td>\n",
        "      <td> </td>\n",
        "      <td> 1433432424</td>\n",
        "      <td> 1433459266</td>\n",
        "      <td>    3</td>\n",
        "      <td> KawaiiTimes</td>\n",
        "      <td>  1</td>\n",
        "    </tr>\n",
        "    <tr>\n",
        "      <th>4</th>\n",
        "      <td> 15</td>\n",
        "      <td> t3_38irgn</td>\n",
        "      <td>                           The disappointment.</td>\n",
        "      <td> </td>\n",
        "      <td> 1433432489</td>\n",
        "      <td> 1433456268</td>\n",
        "      <td>    4</td>\n",
        "      <td>     5000fed</td>\n",
        "      <td>  0</td>\n",
        "    </tr>\n",
        "  </tbody>\n",
        "</table>\n",
        "</div>"
       ],
       "metadata": {},
       "output_type": "pyout",
       "prompt_number": 101,
       "text": [
        "   idsubmissions submission_id                                          title  \\\n",
        "0             11     t3_38j1jk    Top comment after Caitlyn's transformation.   \n",
        "1             12     t3_38glxz                          \"...and other things\"   \n",
        "2             13     t3_38bl7e                          High school libraries   \n",
        "3             14     t3_38iygr  Someone turned Steve Buscemi's dog into our l   \n",
        "4             15     t3_38irgn                            The disappointment.   \n",
        "\n",
        "  content   timestamp     created  score       author  num_comments  \n",
        "0          1433432231  1433460437      2   AceAllen90             0  \n",
        "1          1433432292  1433411928     47      _uff_da             4  \n",
        "2          1433432358  1433332765   4617       mcl523            87  \n",
        "3          1433432424  1433459266      3  KawaiiTimes             1  \n",
        "4          1433432489  1433456268      4      5000fed             0  "
       ]
      }
     ],
     "prompt_number": 101
    },
    {
     "cell_type": "code",
     "collapsed": false,
     "input": [
      "plt.clf()\n",
      "plt.scatter(age, np.log(comments_df.score + 20), s=25)\n",
      "plt.title(\"The log score of a comment versus its age\")\n",
      "plt.savefig(\"scoreVSage\", dpi=300)"
     ],
     "language": "python",
     "metadata": {},
     "outputs": [
      {
       "metadata": {},
       "output_type": "display_data",
       "png": "[encoded data removed]",
       "text": [
        "<matplotlib.figure.Figure at 0xb399790>"
       ]
      }
     ],
     "prompt_number": 141
    },
    {
     "cell_type": "code",
     "collapsed": false,
     "input": [],
     "language": "python",
     "metadata": {},
     "outputs": []
    }
   ],
   "metadata": {}
  }
 ]
}