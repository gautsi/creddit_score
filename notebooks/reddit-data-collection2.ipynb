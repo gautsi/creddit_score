{
 "metadata": {
  "name": ""
 },
 "nbformat": 3,
 "nbformat_minor": 0,
 "worksheets": [
  {
   "cells": [
    {
     "cell_type": "code",
     "collapsed": false,
     "input": [
      "import praw as pr\n",
      "import time as tm\n",
      "from sqlalchemy import MetaData, create_engine\n",
      "from sqlalchemy.sql import select\n",
      "import random\n",
      "from sqlalchemy.exc import StatementError"
     ],
     "language": "python",
     "metadata": {},
     "outputs": [],
     "prompt_number": 70
    },
    {
     "cell_type": "code",
     "collapsed": false,
     "input": [
      "def subm_to_db(subm, conn, subm_table, com_table):\n",
      "    values = {\n",
      "            'submission_id' : subm.name,\n",
      "            'title' : subm.title,\n",
      "            'content' : subm.selftext,\n",
      "            'timestamp' : int(tm.time()),\n",
      "            'created' : int(subm.created),\n",
      "            'score' : subm.score,\n",
      "            'author' : str(subm.author),\n",
      "            'num_comments' : subm.num_comments \n",
      "            }\n",
      "    try:\n",
      "        conn.execute(subm_table.insert(), [values])\n",
      "    except (UnicodeEncodeError, StatementError):\n",
      "        print \"unicode error at submission level\"\n",
      "        pass\n",
      "    \n",
      "    subm.replace_more_comments(limit=None, threshold=0)\n",
      "    \n",
      "    comments = pr.helpers.flatten_tree(subm.comments)\n",
      "    \n",
      "    for comment in comments:\n",
      "        comment_to_db(comment, subm, conn, com_table)\n",
      "                    \n",
      "\n",
      "def comment_to_db(comment, subm, conn, table):\n",
      "    values = {\n",
      "            'comment_id' : comment.name,\n",
      "            'user_id' : str(comment.author),\n",
      "            'submission_id' : subm.name,\n",
      "            'prev_comment_id' : comment.parent_id,\n",
      "            'created' : int(comment.created),\n",
      "            'timestamp' : int(tm.time()),\n",
      "            'content' : comment.body,\n",
      "            'subreddit' : comment.subreddit.title,\n",
      "            'score' : comment.score\n",
      "            }\n",
      "    try:\n",
      "        conn.execute(table.insert(), [values])\n",
      "    except (UnicodeEncodeError, StatementError):\n",
      "        print \"unicode error at comment level\"\n",
      "        pass\n"
     ],
     "language": "python",
     "metadata": {},
     "outputs": [],
     "prompt_number": 71
    },
    {
     "cell_type": "code",
     "collapsed": false,
     "input": [
      "def run_once():\n",
      "    \n",
      "    subreddits = ['dataisbeautiful', 'programming', 'technology', 'python', 'cpp']\n",
      "    \n",
      "    engine = create_engine('mysql+pymysql://gautam@localhost/reddit_comments?charset=utf8')\n",
      "    meta = MetaData()\n",
      "    meta.reflect(bind=engine)\n",
      "    comments = meta.tables['comments']\n",
      "    submissions = meta.tables['submissions']\n",
      "    conn = engine.connect()\n",
      "    \n",
      "    red = pr.Reddit(user_agent='creddit_score')\n",
      "    \n",
      "    sub_already_there = True\n",
      "    while sub_already_there:\n",
      "        subr = red.get_subreddit(subreddits[random.randint(0,len(subreddits)-1)])\n",
      "        submission = subr.get_random_submission()\n",
      "        s = select([submissions]).where(submissions.c.submission_id == submission.name)\n",
      "        result = conn.execute(s).fetchall()\n",
      "        sub_already_there = len(result) > 0\n",
      "        if sub_already_there:\n",
      "            print \"sub already here {} in {}\".format(submission.name, subr.name)\n",
      "    \n",
      "    subm_to_db(submission, conn, submissions, comments)\n",
      "\n",
      "    print \"added {} {}, {}\".format(subr.name, submission.name, submission.num_comments)\n",
      "    conn.close()"
     ],
     "language": "python",
     "metadata": {},
     "outputs": [],
     "prompt_number": 77
    },
    {
     "cell_type": "code",
     "collapsed": false,
     "input": [
      "run_once()"
     ],
     "language": "python",
     "metadata": {},
     "outputs": [
      {
       "output_type": "stream",
       "stream": "stdout",
       "text": [
        "sub already here t3_3693lq in t5_2qi27\n",
        "sub already here t3_390cl5 in t5_2qh16"
       ]
      },
      {
       "output_type": "stream",
       "stream": "stdout",
       "text": [
        "\n",
        "sub already here t3_38etoj in t5_2qi27"
       ]
      },
      {
       "output_type": "stream",
       "stream": "stdout",
       "text": [
        "\n",
        "sub already here t3_38wyvm in t5_2qh16"
       ]
      },
      {
       "output_type": "stream",
       "stream": "stdout",
       "text": [
        "\n",
        "sub already here t3_38wx95 in t5_2qh0y"
       ]
      },
      {
       "output_type": "stream",
       "stream": "stdout",
       "text": [
        "\n",
        "sub already here t3_390pyu in t5_2fwo"
       ]
      },
      {
       "output_type": "stream",
       "stream": "stdout",
       "text": [
        "\n",
        "sub already here t3_38x4xk in t5_2tk95"
       ]
      },
      {
       "output_type": "stream",
       "stream": "stdout",
       "text": [
        "\n",
        "sub already here t3_38sx5q in t5_2qi27"
       ]
      },
      {
       "output_type": "stream",
       "stream": "stdout",
       "text": [
        "\n",
        "sub already here t3_38wkqz in t5_2qh0y"
       ]
      },
      {
       "output_type": "stream",
       "stream": "stdout",
       "text": [
        "\n",
        "sub already here t3_38o5rg in t5_2tk95"
       ]
      },
      {
       "output_type": "stream",
       "stream": "stdout",
       "text": [
        "\n",
        "sub already here t3_38o4e2 in t5_2tk95"
       ]
      },
      {
       "output_type": "stream",
       "stream": "stdout",
       "text": [
        "\n",
        "sub already here t3_38xqoh in t5_2qh16"
       ]
      },
      {
       "output_type": "stream",
       "stream": "stdout",
       "text": [
        "\n",
        "sub already here t3_390cm2 in t5_2fwo"
       ]
      },
      {
       "output_type": "stream",
       "stream": "stdout",
       "text": [
        "\n",
        "sub already here t3_38gs1a in t5_2tk95"
       ]
      },
      {
       "output_type": "stream",
       "stream": "stdout",
       "text": [
        "\n",
        "sub already here t3_383uz4 in t5_2qh0y"
       ]
      },
      {
       "output_type": "stream",
       "stream": "stdout",
       "text": [
        "\n",
        "sub already here t3_38s3sw in t5_2tk95"
       ]
      },
      {
       "output_type": "stream",
       "stream": "stdout",
       "text": [
        "\n",
        "sub already here t3_38uz85 in t5_2qh16"
       ]
      },
      {
       "output_type": "stream",
       "stream": "stdout",
       "text": [
        "\n",
        "sub already here t3_38s0nw in t5_2qh0y"
       ]
      },
      {
       "output_type": "stream",
       "stream": "stdout",
       "text": [
        "\n",
        "sub already here t3_37uo5s in t5_2qh0y"
       ]
      },
      {
       "output_type": "stream",
       "stream": "stdout",
       "text": [
        "\n",
        "sub already here t3_38z1qv in t5_2fwo"
       ]
      },
      {
       "output_type": "stream",
       "stream": "stdout",
       "text": [
        "\n",
        "sub already here t3_37by8d in t5_2qi27"
       ]
      },
      {
       "output_type": "stream",
       "stream": "stdout",
       "text": [
        "\n",
        "sub already here t3_390ygz in t5_2qh0y"
       ]
      },
      {
       "output_type": "stream",
       "stream": "stdout",
       "text": [
        "\n",
        "added t5_2tk95 t3_391fz1, 0"
       ]
      },
      {
       "output_type": "stream",
       "stream": "stdout",
       "text": [
        "\n"
       ]
      }
     ],
     "prompt_number": 78
    },
    {
     "cell_type": "code",
     "collapsed": false,
     "input": [],
     "language": "python",
     "metadata": {},
     "outputs": []
    },
    {
     "cell_type": "code",
     "collapsed": false,
     "input": [],
     "language": "python",
     "metadata": {},
     "outputs": []
    },
    {
     "cell_type": "code",
     "collapsed": false,
     "input": [],
     "language": "python",
     "metadata": {},
     "outputs": []
    },
    {
     "cell_type": "code",
     "collapsed": false,
     "input": [],
     "language": "python",
     "metadata": {},
     "outputs": []
    },
    {
     "cell_type": "code",
     "collapsed": false,
     "input": [],
     "language": "python",
     "metadata": {},
     "outputs": []
    },
    {
     "cell_type": "code",
     "collapsed": false,
     "input": [],
     "language": "python",
     "metadata": {},
     "outputs": []
    },
    {
     "cell_type": "code",
     "collapsed": false,
     "input": [],
     "language": "python",
     "metadata": {},
     "outputs": []
    },
    {
     "cell_type": "code",
     "collapsed": false,
     "input": [
      "subreddits = ['dataisbeautiful', 'programming', 'technology', 'python', 'cpp']\n",
      "red = pr.Reddit(user_agent='creddit_score')\n",
      "subr = red.get_subreddit(subreddits[random.randint(0,len(subreddits)-1)])\n"
     ],
     "language": "python",
     "metadata": {},
     "outputs": [],
     "prompt_number": 4
    },
    {
     "cell_type": "code",
     "collapsed": false,
     "input": [
      "engine = create_engine('mysql+pymysql://gautam@localhost/reddit_comments?charset=utf8')\n",
      "meta = MetaData()\n",
      "meta.reflect(bind=engine)\n",
      "comments = meta.tables['comments']\n",
      "submissions = meta.tables['submissions']\n",
      "conn = engine.connect()"
     ],
     "language": "python",
     "metadata": {},
     "outputs": []
    },
    {
     "cell_type": "code",
     "collapsed": false,
     "input": [
      "submission = subr.get_random_submission()"
     ],
     "language": "python",
     "metadata": {},
     "outputs": [],
     "prompt_number": 57
    },
    {
     "cell_type": "code",
     "collapsed": false,
     "input": [
      "submission.name"
     ],
     "language": "python",
     "metadata": {},
     "outputs": [
      {
       "metadata": {},
       "output_type": "pyout",
       "prompt_number": 58,
       "text": [
        "u't3_38wahs'"
       ]
      }
     ],
     "prompt_number": 58
    },
    {
     "cell_type": "code",
     "collapsed": false,
     "input": [],
     "language": "python",
     "metadata": {},
     "outputs": [],
     "prompt_number": 58
    },
    {
     "cell_type": "code",
     "collapsed": false,
     "input": [
      "s = select([submissions]).where(submissions.c.submission_id == submission.name)\n",
      "result = conn.execute(s).fetchall()"
     ],
     "language": "python",
     "metadata": {},
     "outputs": [],
     "prompt_number": 59
    },
    {
     "cell_type": "code",
     "collapsed": false,
     "input": [
      "print len(result)"
     ],
     "language": "python",
     "metadata": {},
     "outputs": [
      {
       "output_type": "stream",
       "stream": "stdout",
       "text": [
        "1\n"
       ]
      }
     ],
     "prompt_number": 60
    },
    {
     "cell_type": "code",
     "collapsed": false,
     "input": [
      "result"
     ],
     "language": "python",
     "metadata": {},
     "outputs": [
      {
       "metadata": {},
       "output_type": "pyout",
       "prompt_number": 61,
       "text": [
        "[(444, u't3_38wahs', u'EPIC\\u2019s Unreal Engine Open World: Behind the S', '', 1433694005, 1433703291, 33, u'mariuz', 5)]"
       ]
      }
     ],
     "prompt_number": 61
    },
    {
     "cell_type": "code",
     "collapsed": false,
     "input": [],
     "language": "python",
     "metadata": {},
     "outputs": []
    }
   ],
   "metadata": {}
  }
 ]
}